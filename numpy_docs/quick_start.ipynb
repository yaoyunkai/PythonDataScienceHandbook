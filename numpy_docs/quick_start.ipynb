{
 "cells": [
  {
   "cell_type": "markdown",
   "source": [
    "# Numpy QuickStart\n",
    "\n",
    "An array axis(轴) and shape(形状) ???\n",
    "\n",
    "dimensions are called axes.\n",
    "\n",
    "- ndarray.ndim\n",
    "- ndarray.shape\n",
    "- ndarray.size\n",
    "- ndarray.dtype\n",
    "- ndarray.itemsize\n",
    "- ndarray.data\n",
    "\n",
    "`set_printoptions` 来控制print选项\n",
    "\n",
    "-----------------\n",
    "\n",
    "在numpy中\n",
    "\n",
    "矩阵乘法用 `@` 或者 `A.dot(B)`\n",
    "\n",
    "elementwise product 用 `*`\n",
    "\n",
    "\n",
    "`np.fromfunction()`\n"
   ],
   "metadata": {
    "collapsed": false
   }
  },
  {
   "cell_type": "code",
   "execution_count": 1,
   "outputs": [
    {
     "data": {
      "text/plain": "array([[ 0,  1,  2,  3,  4],\n       [ 5,  6,  7,  8,  9],\n       [10, 11, 12, 13, 14]])"
     },
     "execution_count": 1,
     "metadata": {},
     "output_type": "execute_result"
    }
   ],
   "source": [
    "import numpy as np\n",
    "\n",
    "a = np.arange(15).reshape(3, 5)\n",
    "\n",
    "a"
   ],
   "metadata": {
    "collapsed": false
   }
  },
  {
   "cell_type": "code",
   "execution_count": 2,
   "outputs": [
    {
     "data": {
      "text/plain": "9223372036854775807"
     },
     "execution_count": 2,
     "metadata": {},
     "output_type": "execute_result"
    }
   ],
   "source": [
    "import sys\n",
    "\n",
    "# 2**63 - 1\n",
    "sys.maxsize"
   ],
   "metadata": {
    "collapsed": false
   }
  },
  {
   "cell_type": "markdown",
   "source": [
    "## Basic Operations\n",
    "\n",
    "许多一元操作，例如计算数组中所有元素的和，都是作为ndarray类的方法实现的。\n",
    "\n",
    "默认情况下，这些操作应用于数组，就像它是一个数字列表一样，不管它的形状如何。然而，通过指定axis参数，你可以沿着数组的指定轴应用一个操作:\n",
    "\n"
   ],
   "metadata": {
    "collapsed": false
   }
  },
  {
   "cell_type": "code",
   "execution_count": 3,
   "outputs": [
    {
     "name": "stdout",
     "output_type": "stream",
     "text": [
      "[[0.26251726 0.46791961 0.39732902]\n",
      " [0.57624765 0.46338571 0.61289694]]\n",
      "0.26251726213227355\n",
      "0.6128969350619162\n"
     ]
    }
   ],
   "source": [
    "a = np.random.random((2, 3))\n",
    "\n",
    "print(a)\n",
    "\n",
    "print(a.min())\n",
    "print(a.max())"
   ],
   "metadata": {
    "collapsed": false
   }
  },
  {
   "cell_type": "code",
   "execution_count": 4,
   "outputs": [
    {
     "name": "stdout",
     "output_type": "stream",
     "text": [
      "[[ 0  1  2  3]\n",
      " [ 4  5  6  7]\n",
      " [ 8  9 10 11]]\n",
      "[12 15 18 21]\n",
      "[0 4 8]\n",
      "[[ 0  1  3  6]\n",
      " [ 4  9 15 22]\n",
      " [ 8 17 27 38]]\n",
      "[[ 0  1  2  3]\n",
      " [ 4  6  8 10]\n",
      " [12 15 18 21]]\n"
     ]
    }
   ],
   "source": [
    "b = np.arange(12).reshape(3, 4)\n",
    "\n",
    "print(b)\n",
    "\n",
    "print(b.sum(axis=0))\n",
    "\n",
    "print(b.min(axis=1))\n",
    "\n",
    "print(b.cumsum(axis=1))\n",
    "print(b.cumsum(axis=0))"
   ],
   "metadata": {
    "collapsed": false
   }
  },
  {
   "cell_type": "markdown",
   "source": [
    "## 数组变形\n",
    "\n",
    "reshape 返回新的数组, 如果在reshape操作中给定一个维度为-1，则自动计算其他维度\n",
    "\n",
    "resize 原地修改数组\n",
    "\n",
    "**数组的合并**\n",
    "\n",
    "```\n",
    "column_stack\n",
    "vstack\n",
    "hstack\n",
    "row_stack\n",
    "concatenate\n",
    "\n",
    "```\n"
   ],
   "metadata": {
    "collapsed": false
   }
  },
  {
   "cell_type": "code",
   "execution_count": 5,
   "outputs": [
    {
     "name": "stdout",
     "output_type": "stream",
     "text": [
      "[[9. 7. 4. 6.]\n",
      " [4. 3. 7. 7.]\n",
      " [1. 7. 2. 1.]]\n",
      "(3, 4)\n"
     ]
    }
   ],
   "source": [
    "a = np.floor(10 * np.random.random((3, 4)))\n",
    "\n",
    "print(a)\n",
    "\n",
    "print(a.shape)\n"
   ],
   "metadata": {
    "collapsed": false
   }
  },
  {
   "cell_type": "code",
   "execution_count": 6,
   "outputs": [
    {
     "name": "stdout",
     "output_type": "stream",
     "text": [
      "[9. 7. 4. 6. 4. 3. 7. 7. 1. 7. 2. 1.]\n",
      "[[9. 7.]\n",
      " [4. 6.]\n",
      " [4. 3.]\n",
      " [7. 7.]\n",
      " [1. 7.]\n",
      " [2. 1.]]\n",
      "[[9. 4. 1.]\n",
      " [7. 3. 7.]\n",
      " [4. 7. 2.]\n",
      " [6. 7. 1.]]\n"
     ]
    }
   ],
   "source": [
    "# 返回平面化的数组\n",
    "print(a.ravel())\n",
    "\n",
    "# 修改数组的维度\n",
    "print(a.reshape(6, 2))\n",
    "\n",
    "# 返回转置后的数组\n",
    "print(a.T)"
   ],
   "metadata": {
    "collapsed": false
   }
  },
  {
   "cell_type": "code",
   "execution_count": 7,
   "outputs": [
    {
     "name": "stdout",
     "output_type": "stream",
     "text": [
      "[[9. 7. 4. 6. 4. 3.]\n",
      " [7. 7. 1. 7. 2. 1.]]\n"
     ]
    }
   ],
   "source": [
    "\n",
    "#\n",
    "a.resize((2, 6))\n",
    "print(a)"
   ],
   "metadata": {
    "collapsed": false
   }
  },
  {
   "cell_type": "markdown",
   "source": [
    "## 数组的copy\n",
    "\n",
    "有如下三种形式\n",
    "\n",
    "- 赋值\n",
    "- View or Shallow Copy\n",
    "- deep copy\n"
   ],
   "metadata": {
    "collapsed": false
   }
  }
 ],
 "metadata": {
  "kernelspec": {
   "display_name": "Python 3",
   "language": "python",
   "name": "python3"
  },
  "language_info": {
   "codemirror_mode": {
    "name": "ipython",
    "version": 2
   },
   "file_extension": ".py",
   "mimetype": "text/x-python",
   "name": "python",
   "nbconvert_exporter": "python",
   "pygments_lexer": "ipython2",
   "version": "2.7.6"
  }
 },
 "nbformat": 4,
 "nbformat_minor": 0
}
