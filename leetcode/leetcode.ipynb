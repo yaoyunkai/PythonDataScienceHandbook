{
 "cells": [
  {
   "cell_type": "code",
   "execution_count": 1,
   "metadata": {
    "collapsed": true
   },
   "outputs": [],
   "source": [
    "import numpy as np\n",
    "import pandas as pd\n"
   ]
  },
  {
   "cell_type": "code",
   "execution_count": 11,
   "outputs": [],
   "source": [
    "data = [['Afghanistan', 'Asia', 652230, 25500100, 20343000000], ['Albania', 'Europe', 28748, 2831741, 12960000000], ['Algeria', 'Africa', 2381741, 37100000, 188681000000], ['Andorra', 'Europe', 468, 78115, 3712000000], ['Angola', 'Africa', 1246700, 20609294, 100990000000]]\n",
    "World = pd.DataFrame(data, columns=['name', 'continent', 'area', 'population', 'gdp']).astype({'name':'object', 'continent':'object', 'area':'Int64', 'population':'Int64', 'gdp':'Int64'})\n",
    "\n",
    "# 基本格式：df.loc[对行筛选, 对列筛选]\n",
    "# return world.loc[(world['area'] >= 3000000) | (world['population'] >= 25000000), ['name', 'area', 'population']]\n",
    "\n",
    "\n",
    "df = World[(World['area'] >= 3000000) | (World['population'] >= 25000000)]\n",
    "df = df[['name', 'population', 'area']]"
   ],
   "metadata": {
    "collapsed": false
   }
  },
  {
   "cell_type": "code",
   "execution_count": 13,
   "outputs": [
    {
     "name": "stdout",
     "output_type": "stream",
     "text": [
      "   product_id\n",
      "1           1\n",
      "3           3\n"
     ]
    }
   ],
   "source": [
    "data = [['0', 'Y', 'N'], ['1', 'Y', 'Y'], ['2', 'N', 'Y'], ['3', 'Y', 'Y'], ['4', 'N', 'N']]\n",
    "Products = pd.DataFrame(data, columns=['product_id', 'low_fats', 'recyclable']).astype({'product_id':'int64', 'low_fats':'category', 'recyclable':'category'})\n",
    "\n",
    "df = Products.loc[(Products['low_fats'] == 'Y') & (Products['recyclable'] =='Y'), ['product_id']]\n",
    "print(df)"
   ],
   "metadata": {
    "collapsed": false
   }
  },
  {
   "cell_type": "code",
   "execution_count": 15,
   "outputs": [
    {
     "name": "stdout",
     "output_type": "stream",
     "text": [
      "   id   name\n",
      "0   1    Joe\n",
      "1   2  Henry\n",
      "2   3    Sam\n",
      "3   4    Max\n",
      "   id  customerId\n",
      "0   1           3\n",
      "1   2           1\n"
     ]
    }
   ],
   "source": [
    "data = [[1, 'Joe'], [2, 'Henry'], [3, 'Sam'], [4, 'Max']]\n",
    "Customers = pd.DataFrame(data, columns=['id', 'name']).astype({'id':'Int64', 'name':'object'})\n",
    "data = [[1, 3], [2, 1]]\n",
    "Orders = pd.DataFrame(data, columns=['id', 'customerId']).astype({'id':'Int64', 'customerId':'Int64'})\n",
    "\n",
    "print(Customers)\n",
    "print(Orders)"
   ],
   "metadata": {
    "collapsed": false
   }
  }
 ],
 "metadata": {
  "kernelspec": {
   "display_name": "Python 3",
   "language": "python",
   "name": "python3"
  },
  "language_info": {
   "codemirror_mode": {
    "name": "ipython",
    "version": 2
   },
   "file_extension": ".py",
   "mimetype": "text/x-python",
   "name": "python",
   "nbconvert_exporter": "python",
   "pygments_lexer": "ipython2",
   "version": "2.7.6"
  }
 },
 "nbformat": 4,
 "nbformat_minor": 0
}
