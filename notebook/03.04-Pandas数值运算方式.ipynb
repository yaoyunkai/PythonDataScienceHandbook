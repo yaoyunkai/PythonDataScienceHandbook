{
 "cells": [
  {
   "cell_type": "markdown",
   "source": [
    "# Pandas数值运算方式\n",
    "\n",
    "对于一元运算，这些通用将在结果中保留索引和列标签\n",
    "\n",
    "对于二元运算，pandas在传递通用函数时会自动对齐索引进行计算\n"
   ],
   "metadata": {
    "collapsed": false
   },
   "id": "ff2e7c1900cd25cb"
  },
  {
   "cell_type": "code",
   "execution_count": 1,
   "outputs": [],
   "source": [
    "import pandas as pd\n",
    "import numpy as np"
   ],
   "metadata": {
    "collapsed": false,
    "ExecuteTime": {
     "start_time": "2023-08-14T12:32:01.755565800Z"
    }
   },
   "id": "initial_id"
  },
  {
   "cell_type": "code",
   "execution_count": 2,
   "outputs": [
    {
     "data": {
      "text/plain": "0    6\n1    3\n2    7\n3    4\ndtype: int32"
     },
     "execution_count": 2,
     "metadata": {},
     "output_type": "execute_result"
    }
   ],
   "source": [
    "rng = np.random.RandomState(42)\n",
    "ser = pd.Series(rng.randint(0, 10, 4))\n",
    "ser"
   ],
   "metadata": {
    "collapsed": false,
    "ExecuteTime": {
     "end_time": "2023-08-14T12:32:05.668202Z",
     "start_time": "2023-08-14T12:32:05.636936900Z"
    }
   },
   "id": "62667fda2313d160"
  },
  {
   "cell_type": "code",
   "execution_count": 3,
   "outputs": [
    {
     "data": {
      "text/plain": "   A  B  C  D\n0  6  9  2  6\n1  7  4  3  7\n2  7  2  5  4",
      "text/html": "<div>\n<style scoped>\n    .dataframe tbody tr th:only-of-type {\n        vertical-align: middle;\n    }\n\n    .dataframe tbody tr th {\n        vertical-align: top;\n    }\n\n    .dataframe thead th {\n        text-align: right;\n    }\n</style>\n<table border=\"1\" class=\"dataframe\">\n  <thead>\n    <tr style=\"text-align: right;\">\n      <th></th>\n      <th>A</th>\n      <th>B</th>\n      <th>C</th>\n      <th>D</th>\n    </tr>\n  </thead>\n  <tbody>\n    <tr>\n      <th>0</th>\n      <td>6</td>\n      <td>9</td>\n      <td>2</td>\n      <td>6</td>\n    </tr>\n    <tr>\n      <th>1</th>\n      <td>7</td>\n      <td>4</td>\n      <td>3</td>\n      <td>7</td>\n    </tr>\n    <tr>\n      <th>2</th>\n      <td>7</td>\n      <td>2</td>\n      <td>5</td>\n      <td>4</td>\n    </tr>\n  </tbody>\n</table>\n</div>"
     },
     "execution_count": 3,
     "metadata": {},
     "output_type": "execute_result"
    }
   ],
   "source": [
    "df = pd.DataFrame(rng.randint(0, 10, (3, 4)),\n",
    "                  columns=['A', 'B', 'C', 'D'])\n",
    "df"
   ],
   "metadata": {
    "collapsed": false,
    "ExecuteTime": {
     "end_time": "2023-08-14T12:32:13.728773100Z",
     "start_time": "2023-08-14T12:32:13.697483700Z"
    }
   },
   "id": "14fbf1a38496a3e6"
  },
  {
   "cell_type": "code",
   "execution_count": 5,
   "outputs": [
    {
     "name": "stdout",
     "output_type": "stream",
     "text": [
      "0     403.428793\n",
      "1      20.085537\n",
      "2    1096.633158\n",
      "3      54.598150\n",
      "dtype: float64\n",
      "          A             B         C             D\n",
      "0 -1.000000  7.071068e-01  1.000000 -1.000000e+00\n",
      "1 -0.707107  1.224647e-16  0.707107 -7.071068e-01\n",
      "2 -0.707107  1.000000e+00 -0.707107  1.224647e-16\n"
     ]
    }
   ],
   "source": [
    "print(np.exp(ser))\n",
    "print(np.sin(df * np.pi / 4))"
   ],
   "metadata": {
    "collapsed": false,
    "ExecuteTime": {
     "end_time": "2023-08-14T12:36:54.795382Z",
     "start_time": "2023-08-14T12:36:54.764132100Z"
    }
   },
   "id": "11a1ee1801eb58c"
  },
  {
   "cell_type": "markdown",
   "source": [
    "## 索引对齐\n",
    "\n",
    "Python 运算符和 Pandas方法的映射关系\n",
    "\n",
    "| Python Operator | Pandas Method(s)                       |\n",
    "|-----------------|----------------------------------------|\n",
    "| ``+``           | ``add()``                              |\n",
    "| ``-``           | ``sub()``, ``subtract()``              |\n",
    "| ``*``           | ``mul()``, ``multiply()``              |\n",
    "| ``/``           | ``truediv()``, ``div()``, ``divide()`` |\n",
    "| ``//``          | ``floordiv()``                         |\n",
    "| ``%``           | ``mod()``                              |\n",
    "| ``**``          | ``pow()``                              |\n",
    "\n"
   ],
   "metadata": {
    "collapsed": false
   },
   "id": "a08f1a96a7c55c27"
  },
  {
   "cell_type": "code",
   "execution_count": 6,
   "outputs": [],
   "source": [
    "area = pd.Series({'Alaska': 1723337, 'Texas': 695662,\n",
    "                  'California': 423967}, name='area')\n",
    "population = pd.Series({'California': 38332521, 'Texas': 26448193,\n",
    "                        'New York': 19651127}, name='population')"
   ],
   "metadata": {
    "collapsed": false,
    "ExecuteTime": {
     "end_time": "2023-08-14T12:37:32.356882800Z",
     "start_time": "2023-08-14T12:37:32.341011100Z"
    }
   },
   "id": "88198b509ca7ca66"
  },
  {
   "cell_type": "code",
   "execution_count": 11,
   "outputs": [
    {
     "name": "stdout",
     "output_type": "stream",
     "text": [
      "Alaska              NaN\n",
      "California    90.413926\n",
      "New York            NaN\n",
      "Texas         38.018740\n",
      "dtype: float64 <class 'pandas.core.series.Series'>\n",
      "Index(['Alaska', 'California', 'New York', 'Texas'], dtype='object')\n"
     ]
    }
   ],
   "source": [
    "res = population / area\n",
    "\n",
    "print(res, type(res))\n",
    "\n",
    "# 获取索引合集\n",
    "print(area.index.union(population.index))"
   ],
   "metadata": {
    "collapsed": false,
    "ExecuteTime": {
     "end_time": "2023-08-14T12:39:11.420332100Z",
     "start_time": "2023-08-14T12:39:11.404705500Z"
    }
   },
   "id": "465835c6038009d"
  },
  {
   "cell_type": "code",
   "execution_count": 12,
   "outputs": [
    {
     "data": {
      "text/plain": "0    2.0\n1    5.0\n2    9.0\n3    5.0\ndtype: float64"
     },
     "execution_count": 12,
     "metadata": {},
     "output_type": "execute_result"
    }
   ],
   "source": [
    "A = pd.Series([2, 4, 6], index=[0, 1, 2])\n",
    "B = pd.Series([1, 3, 5], index=[1, 2, 3])\n",
    "\n",
    "A.add(B, fill_value=0)"
   ],
   "metadata": {
    "collapsed": false,
    "ExecuteTime": {
     "end_time": "2023-08-14T12:40:20.345758200Z",
     "start_time": "2023-08-14T12:40:20.329937200Z"
    }
   },
   "id": "9c5b179e454c2169"
  },
  {
   "cell_type": "code",
   "execution_count": 13,
   "outputs": [
    {
     "name": "stdout",
     "output_type": "stream",
     "text": [
      "      A     B   C\n",
      "0   1.0  15.0 NaN\n",
      "1  13.0   6.0 NaN\n",
      "2   NaN   NaN NaN\n"
     ]
    }
   ],
   "source": [
    "A = pd.DataFrame(rng.randint(0, 20, (2, 2)), columns=list('AB'))\n",
    "B = pd.DataFrame(rng.randint(0, 10, (3, 3)), columns=list('BAC'))\n",
    "\n",
    "print(A + B)"
   ],
   "metadata": {
    "collapsed": false,
    "ExecuteTime": {
     "end_time": "2023-08-14T12:42:23.813523500Z",
     "start_time": "2023-08-14T12:42:23.797895500Z"
    }
   },
   "id": "9803cd947d4acbca"
  },
  {
   "cell_type": "code",
   "execution_count": 15,
   "outputs": [
    {
     "name": "stdout",
     "output_type": "stream",
     "text": [
      "   Q  R  S  T\n",
      "0  0  0  0  0\n",
      "1  3 -8 -5 -3\n",
      "2  6 -7 -8 -6\n",
      "   Q  R  S  T\n",
      "0 -8  0 -1  0\n",
      "1  3  0  2  5\n",
      "2  5  0 -2  1\n",
      "Q    1\n",
      "S    8\n",
      "Name: 0, dtype: int32\n"
     ]
    }
   ],
   "source": [
    "A = rng.randint(10, size=(3, 4))\n",
    "df = pd.DataFrame(A, columns=list('QRST'))\n",
    "print(df - df.iloc[0])\n",
    "print(df.subtract(df['R'], axis=0))\n",
    "\n",
    "halfrow = df.iloc[0, ::2]\n",
    "print(halfrow)"
   ],
   "metadata": {
    "collapsed": false,
    "ExecuteTime": {
     "end_time": "2023-08-14T12:49:38.827933800Z",
     "start_time": "2023-08-14T12:49:38.812315500Z"
    }
   },
   "id": "f44bd4662745d140"
  },
  {
   "cell_type": "code",
   "execution_count": null,
   "outputs": [],
   "source": [],
   "metadata": {
    "collapsed": false
   },
   "id": "5dbd25ad7e16a7ff"
  }
 ],
 "metadata": {
  "kernelspec": {
   "display_name": "Python 3",
   "language": "python",
   "name": "python3"
  },
  "language_info": {
   "codemirror_mode": {
    "name": "ipython",
    "version": 2
   },
   "file_extension": ".py",
   "mimetype": "text/x-python",
   "name": "python",
   "nbconvert_exporter": "python",
   "pygments_lexer": "ipython2",
   "version": "2.7.6"
  }
 },
 "nbformat": 4,
 "nbformat_minor": 5
}
