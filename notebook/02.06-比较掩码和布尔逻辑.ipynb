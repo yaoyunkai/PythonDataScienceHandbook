{
 "cells": [
  {
   "cell_type": "markdown",
   "source": [
    "# 2.6 比较、掩码和布尔逻辑\n",
    "\n"
   ],
   "metadata": {
    "collapsed": false
   },
   "id": "92fb037bf5f76c81"
  },
  {
   "cell_type": "code",
   "execution_count": 1,
   "outputs": [
    {
     "data": {
      "text/plain": "(365,)"
     },
     "execution_count": 1,
     "metadata": {},
     "output_type": "execute_result"
    }
   ],
   "source": [
    "import numpy as np\n",
    "import pandas as pd\n",
    "\n",
    "# use pandas to extract rainfall inches as a NumPy array\n",
    "rainfall = pd.read_csv('data/Seattle2014.csv')['PRCP'].values\n",
    "inches = rainfall / 254.0  # 1/10mm -> inches\n",
    "inches.shape"
   ],
   "metadata": {
    "collapsed": false,
    "ExecuteTime": {
     "end_time": "2023-07-31T13:42:22.680486100Z",
     "start_time": "2023-07-31T13:42:22.668574400Z"
    }
   },
   "id": "6a6999b5fb33bcfd"
  },
  {
   "cell_type": "code",
   "execution_count": 2,
   "outputs": [
    {
     "data": {
      "text/plain": "<Figure size 640x480 with 1 Axes>",
      "image/png": "[encoded data removed]"
     },
     "metadata": {},
     "output_type": "display_data"
    }
   ],
   "source": [
    "%matplotlib inline\n",
    "import matplotlib.pyplot as plt\n",
    "import seaborn\n",
    "\n",
    "seaborn.set()  # set plot styles\n",
    "\n",
    "plt.hist(inches, 40);"
   ],
   "metadata": {
    "collapsed": false,
    "ExecuteTime": {
     "end_time": "2023-07-31T13:43:07.589137900Z",
     "start_time": "2023-07-31T13:43:07.258575600Z"
    }
   },
   "id": "34f18e12b7d7016a"
  },
  {
   "cell_type": "markdown",
   "source": [
    "## 和通用函数类似的比较操作\n",
    "\n",
    "```\n",
    "np.eqaual        ==\n",
    "np.not_equal     !=\n",
    "np.less\n",
    "np.less_equal\n",
    "np.greater\n",
    "np.greater_equal\n",
    "\n",
    "\n",
    "```\n",
    "\n"
   ],
   "metadata": {
    "collapsed": false
   },
   "id": "c4ca652dd5c87a10"
  },
  {
   "cell_type": "code",
   "execution_count": 3,
   "outputs": [
    {
     "name": "stdout",
     "output_type": "stream",
     "text": [
      "[ True  True False False False]\n",
      "[False False  True  True  True]\n"
     ]
    }
   ],
   "source": [
    "x = np.array([1, 2, 3, 4, 5])\n",
    "\n",
    "print(x < 3)\n",
    "print(x >= 3)"
   ],
   "metadata": {
    "collapsed": false,
    "ExecuteTime": {
     "end_time": "2023-07-31T13:46:12.513485300Z",
     "start_time": "2023-07-31T13:46:12.471182900Z"
    }
   },
   "id": "3936ac9cc2e9f464"
  },
  {
   "cell_type": "code",
   "execution_count": 4,
   "outputs": [
    {
     "name": "stdout",
     "output_type": "stream",
     "text": [
      "[False  True False False False]\n"
     ]
    }
   ],
   "source": [
    "# 利用复合表达式\n",
    "\n",
    "print((2 * x) == (x ** 2))"
   ],
   "metadata": {
    "collapsed": false,
    "ExecuteTime": {
     "end_time": "2023-07-31T13:47:01.698388100Z",
     "start_time": "2023-07-31T13:47:01.678455600Z"
    }
   },
   "id": "80f63eb66df7f574"
  },
  {
   "cell_type": "code",
   "execution_count": 5,
   "outputs": [
    {
     "name": "stdout",
     "output_type": "stream",
     "text": [
      "[ True  True False False False]\n"
     ]
    }
   ],
   "source": [
    "# x < 3 等价于 np.less(x, 3)\n",
    "\n",
    "print(np.less(x, 3))"
   ],
   "metadata": {
    "collapsed": false,
    "ExecuteTime": {
     "end_time": "2023-07-31T13:47:37.779200700Z",
     "start_time": "2023-07-31T13:47:37.759126Z"
    }
   },
   "id": "844e3e127610aca4"
  },
  {
   "cell_type": "markdown",
   "source": [
    "## 操作布尔数组\n",
    "\n",
    "1. 统计记录的个数，使用 np.count_nonzero\n",
    "2. 快速检查任意或者所有这些值是否为True, 可以使用 np.any np.all\n",
    "3. 布尔运算符\n",
    "\n",
    "统计降水量小于4 而且 大于 2 的天数？？？ 通过python的逐位逻辑运算符 bitwise logic operator\n",
    "\n",
    "```\n",
    "&            np.bitwise_and\n",
    "|            np.bitwise_or\n",
    "^            np.bitwise_xor\n",
    "~            np.bitwise_not\n",
    "\n",
    "```\n"
   ],
   "metadata": {
    "collapsed": false
   },
   "id": "d290df6f7239be66"
  },
  {
   "cell_type": "code",
   "execution_count": 6,
   "outputs": [
    {
     "name": "stdout",
     "output_type": "stream",
     "text": [
      "[[5 0 3 3]\n",
      " [7 9 3 5]\n",
      " [2 4 7 6]]\n"
     ]
    }
   ],
   "source": [
    "rng = np.random.RandomState(0)\n",
    "\n",
    "x = rng.randint(10, size=(3, 4))\n",
    "print(x)"
   ],
   "metadata": {
    "collapsed": false,
    "ExecuteTime": {
     "end_time": "2023-07-31T13:52:16.238917400Z",
     "start_time": "2023-07-31T13:52:16.208986800Z"
    }
   },
   "id": "b5d6060fd6b85de5"
  },
  {
   "cell_type": "code",
   "execution_count": 7,
   "outputs": [
    {
     "data": {
      "text/plain": "8"
     },
     "execution_count": 7,
     "metadata": {},
     "output_type": "execute_result"
    }
   ],
   "source": [
    "np.count_nonzero(x < 6)"
   ],
   "metadata": {
    "collapsed": false,
    "ExecuteTime": {
     "end_time": "2023-07-31T13:53:28.879163800Z",
     "start_time": "2023-07-31T13:53:28.848674Z"
    }
   },
   "id": "769df48e1971aeb7"
  },
  {
   "cell_type": "code",
   "execution_count": 8,
   "outputs": [
    {
     "data": {
      "text/plain": "8"
     },
     "execution_count": 8,
     "metadata": {},
     "output_type": "execute_result"
    }
   ],
   "source": [
    "# 另一种实现方式是利用 np.sum, 在这个例子中 False会被解释成0， True会被解释成1\n",
    "np.sum(x < 6)"
   ],
   "metadata": {
    "collapsed": false,
    "ExecuteTime": {
     "end_time": "2023-07-31T13:55:15.978840500Z",
     "start_time": "2023-07-31T13:55:15.933869100Z"
    }
   },
   "id": "241ca6ad6ce4a1e0"
  },
  {
   "cell_type": "code",
   "execution_count": 9,
   "outputs": [
    {
     "data": {
      "text/plain": "array([4, 2, 2])"
     },
     "execution_count": 9,
     "metadata": {},
     "output_type": "execute_result"
    }
   ],
   "source": [
    "# 可以沿着列进行\n",
    "np.sum(x < 6, axis=1)"
   ],
   "metadata": {
    "collapsed": false,
    "ExecuteTime": {
     "end_time": "2023-07-31T13:56:29.799206100Z",
     "start_time": "2023-07-31T13:56:29.768995500Z"
    }
   },
   "id": "745ff82edb3ee319"
  },
  {
   "cell_type": "code",
   "execution_count": 10,
   "outputs": [
    {
     "name": "stdout",
     "output_type": "stream",
     "text": [
      "True\n",
      "False\n",
      "True\n",
      "[ True False  True]\n"
     ]
    }
   ],
   "source": [
    "print(np.any(x > 8))\n",
    "print(np.any(x < 0))\n",
    "\n",
    "print(np.all(x < 10))\n",
    "\n",
    "print(np.all(x < 8, axis=1))"
   ],
   "metadata": {
    "collapsed": false,
    "ExecuteTime": {
     "end_time": "2023-07-31T13:58:16.116543200Z",
     "start_time": "2023-07-31T13:58:16.054258500Z"
    }
   },
   "id": "281b4d64dce1a0c"
  },
  {
   "cell_type": "code",
   "execution_count": 12,
   "outputs": [
    {
     "name": "stdout",
     "output_type": "stream",
     "text": [
      "29\n",
      "29\n"
     ]
    }
   ],
   "source": [
    "# 统计降水量小于4 而且 大于 2 的天数？？？\n",
    "print(np.sum((inches > 0.5) & (inches < 1)))\n",
    "\n",
    "print(np.sum(~((inches <= 0.5) | (inches >= 1))))"
   ],
   "metadata": {
    "collapsed": false,
    "ExecuteTime": {
     "end_time": "2023-07-31T14:02:39.969714700Z",
     "start_time": "2023-07-31T14:02:39.949634600Z"
    }
   },
   "id": "9fa569a3c6fda2f3"
  },
  {
   "cell_type": "code",
   "execution_count": 13,
   "outputs": [
    {
     "name": "stdout",
     "output_type": "stream",
     "text": [
      "Number days without rain:       215\n",
      "Number days with rain:          150\n",
      "Days with more than 0.5 inches: 37\n",
      "Rainy days with < 0.2 inches  : 75\n"
     ]
    }
   ],
   "source": [
    "print(\"Number days without rain:      \", np.sum(inches == 0))\n",
    "print(\"Number days with rain:         \", np.sum(inches != 0))\n",
    "print(\"Days with more than 0.5 inches:\", np.sum(inches > 0.5))\n",
    "print(\"Rainy days with < 0.2 inches  :\", np.sum((inches > 0) & (inches < 0.2)))"
   ],
   "metadata": {
    "collapsed": false,
    "ExecuteTime": {
     "end_time": "2023-07-31T14:04:51.449801900Z",
     "start_time": "2023-07-31T14:04:51.411406800Z"
    }
   },
   "id": "5607bc46b4b98bc3"
  },
  {
   "cell_type": "markdown",
   "source": [
    "## 将布尔数组作为掩码\n",
    "\n",
    "一种更强大的模式是使用布尔数组作为掩码，通过该掩码选择数据的子数据集。\n",
    "\n",
    "利用比较运算符可以得到一个布尔数组\n",
    "\n",
    "使用 and/or 还是 逻辑操作运算符 &/|\n",
    "\n",
    "and/or判断整个对象是真或者假，&/|是指每个对象中的比特位，当在numpy中有一个布尔数组时，该数组可以被当作是由比特字符组成的。\n"
   ],
   "metadata": {
    "collapsed": false
   },
   "id": "485348775809747d"
  },
  {
   "cell_type": "code",
   "execution_count": 14,
   "outputs": [
    {
     "name": "stdout",
     "output_type": "stream",
     "text": [
      "[[5 0 3 3]\n",
      " [7 9 3 5]\n",
      " [2 4 7 6]]\n"
     ]
    }
   ],
   "source": [
    "print(x)"
   ],
   "metadata": {
    "collapsed": false,
    "ExecuteTime": {
     "end_time": "2023-07-31T14:06:28.545307900Z",
     "start_time": "2023-07-31T14:06:28.506449600Z"
    }
   },
   "id": "71af37c9c9c1779e"
  },
  {
   "cell_type": "code",
   "execution_count": 15,
   "outputs": [
    {
     "data": {
      "text/plain": "array([0, 3, 3, 3, 2, 4])"
     },
     "execution_count": 15,
     "metadata": {},
     "output_type": "execute_result"
    }
   ],
   "source": [
    "# 掩码操作\n",
    "x[x < 5]"
   ],
   "metadata": {
    "collapsed": false,
    "ExecuteTime": {
     "end_time": "2023-07-31T14:07:21.854219800Z",
     "start_time": "2023-07-31T14:07:21.821134Z"
    }
   },
   "id": "b71566b31c73a4e8"
  },
  {
   "cell_type": "code",
   "execution_count": 16,
   "outputs": [
    {
     "name": "stdout",
     "output_type": "stream",
     "text": [
      "Median precip on rainy days in 2014 (inches):    0.19488188976377951\n",
      "Median precip on summer days in 2014 (inches):   0.0\n",
      "Maximum precip on summer days in 2014 (inches):  0.8503937007874016\n",
      "Median precip on non-summer rainy days (inches): 0.20078740157480315\n"
     ]
    }
   ],
   "source": [
    "# 为所有下雨天创建一个掩码\n",
    "rainy = (inches > 0)\n",
    "\n",
    "# construct a mask of all summer days (June 21st is the 172nd day)\n",
    "days = np.arange(365)\n",
    "summer = (days > 172) & (days < 262)\n",
    "\n",
    "print(\"Median precip on rainy days in 2014 (inches):   \", np.median(inches[rainy]))\n",
    "print(\"Median precip on summer days in 2014 (inches):  \", np.median(inches[summer]))\n",
    "print(\"Maximum precip on summer days in 2014 (inches): \", np.max(inches[summer]))\n",
    "print(\"Median precip on non-summer rainy days (inches):\", np.median(inches[rainy & ~summer]))"
   ],
   "metadata": {
    "collapsed": false,
    "ExecuteTime": {
     "end_time": "2023-07-31T14:09:28.881559Z",
     "start_time": "2023-07-31T14:09:28.801314900Z"
    }
   },
   "id": "e6762da2e15961d3"
  }
 ],
 "metadata": {
  "kernelspec": {
   "display_name": "Python 3",
   "language": "python",
   "name": "python3"
  },
  "language_info": {
   "codemirror_mode": {
    "name": "ipython",
    "version": 2
   },
   "file_extension": ".py",
   "mimetype": "text/x-python",
   "name": "python",
   "nbconvert_exporter": "python",
   "pygments_lexer": "ipython2",
   "version": "2.7.6"
  }
 },
 "nbformat": 4,
 "nbformat_minor": 5
}
