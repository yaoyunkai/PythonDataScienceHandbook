{
 "cells": [
  {
   "cell_type": "markdown",
   "source": [
    "# NumPy 数组基础\n",
    "\n",
    "## 数组的属性\n",
    "\n",
    "```\n",
    "\n",
    "x3 ndim:  3               数组的维度\n",
    "x3 shape: (3, 4, 5)       数组每个维度的大小\n",
    "x3 size:  60              数组的总大小\n",
    "x3 dtype: int32           数组的数据类型\n",
    "\n",
    "itemsize: 4 bytes         单个元素的字节数\n",
    "nbytes: 240 bytes         数组的总字节数\n",
    "\n",
    "```\n"
   ],
   "metadata": {
    "collapsed": false
   }
  },
  {
   "cell_type": "code",
   "execution_count": 1,
   "outputs": [],
   "source": [
    "import numpy as np\n",
    "\n",
    "np.random.seed(0)  # 设置随机种子\n",
    "\n",
    "x1 = np.random.randint(10, size=6)\n",
    "x2 = np.random.randint(10, size=(3, 4))\n",
    "x3 = np.random.randint(10, size=(3, 4, 5))\n"
   ],
   "metadata": {
    "collapsed": false,
    "ExecuteTime": {
     "end_time": "2023-07-19T14:50:33.100529600Z",
     "start_time": "2023-07-19T14:50:32.980817600Z"
    }
   }
  },
  {
   "cell_type": "code",
   "execution_count": 2,
   "outputs": [
    {
     "name": "stdout",
     "output_type": "stream",
     "text": [
      "x3 ndim:  3\n",
      "x3 shape: (3, 4, 5)\n",
      "x3 size:  60\n",
      "x3 dtype: int32\n",
      "itemsize: 4 bytes\n",
      "nbytes: 240 bytes\n"
     ]
    }
   ],
   "source": [
    "print(\"x3 ndim: \", x3.ndim)\n",
    "print(\"x3 shape:\", x3.shape)\n",
    "print(\"x3 size: \", x3.size)\n",
    "print(\"x3 dtype:\", x3.dtype)\n",
    "\n",
    "print(\"itemsize:\", x3.itemsize, \"bytes\")\n",
    "print(\"nbytes:\", x3.nbytes, \"bytes\")"
   ],
   "metadata": {
    "collapsed": false,
    "ExecuteTime": {
     "end_time": "2023-07-19T14:50:33.114820200Z",
     "start_time": "2023-07-19T14:50:33.100529600Z"
    }
   }
  },
  {
   "cell_type": "markdown",
   "source": [
    "## 数组的索引\n",
    "\n",
    "一维数组中，通过`[]` 获取第i个值\n",
    "\n",
    "二维数组通过 `[x,y]` 访问某个元素，也可以对其赋值来修改该元素\n"
   ],
   "metadata": {
    "collapsed": false
   }
  },
  {
   "cell_type": "code",
   "execution_count": 3,
   "outputs": [
    {
     "name": "stdout",
     "output_type": "stream",
     "text": [
      "[5 0 3 3 7 9]\n"
     ]
    },
    {
     "data": {
      "text/plain": "7"
     },
     "execution_count": 3,
     "metadata": {},
     "output_type": "execute_result"
    }
   ],
   "source": [
    "print(x1)\n",
    "\n",
    "var1 = x1[0]\n",
    "\n",
    "x1[4]\n"
   ],
   "metadata": {
    "collapsed": false,
    "ExecuteTime": {
     "end_time": "2023-07-19T14:50:33.178718100Z",
     "start_time": "2023-07-19T14:50:33.114820200Z"
    }
   }
  },
  {
   "cell_type": "code",
   "execution_count": 4,
   "outputs": [
    {
     "name": "stdout",
     "output_type": "stream",
     "text": [
      "[[3 5 2 4]\n",
      " [7 6 8 8]\n",
      " [1 6 7 7]]\n",
      "3\n",
      "1\n",
      "7\n"
     ]
    },
    {
     "data": {
      "text/plain": "array([7, 6, 8, 8])"
     },
     "execution_count": 4,
     "metadata": {},
     "output_type": "execute_result"
    }
   ],
   "source": [
    "print(x2)\n",
    "\n",
    "print(x2[0, 0])\n",
    "print(x2[2, 0])\n",
    "\n",
    "print(x2[-1, -1])\n",
    "\n",
    "# x2[0, 0] = 12\n",
    "\n",
    "# print(x2[1])\n",
    "\n",
    "x2[1]"
   ],
   "metadata": {
    "collapsed": false,
    "ExecuteTime": {
     "end_time": "2023-07-19T14:50:33.190662100Z",
     "start_time": "2023-07-19T14:50:33.131010700Z"
    }
   }
  },
  {
   "cell_type": "markdown",
   "source": [
    "## 数组的切片\n",
    "\n",
    "slice : `x[start:stop:step]`\n",
    "\n",
    "如果以上3个参数都未指定，那么它们会被设置为默认值 start=0, stop=维度的大小(size of dimension)和step=1\n",
    "\n",
    "数组切片返回的是数组数据的视图，而不是数值数据的副本。如果修改子数组，原始的数组也会被修改。\n",
    "\n",
    "在处理非常大的数据集时，可以获取或处理这些数据集的片段，而不用复制底层的数据缓存。\n",
    "\n",
    "-------\n",
    "\n",
    "创建数组的副本，可以显式的使用 `copy()` 方法\n",
    "\n",
    "\n",
    "1. 一维子数组"
   ],
   "metadata": {
    "collapsed": false
   }
  },
  {
   "cell_type": "code",
   "execution_count": 5,
   "outputs": [
    {
     "data": {
      "text/plain": "array([0, 1, 2, 3, 4, 5, 6, 7, 8, 9])"
     },
     "execution_count": 5,
     "metadata": {},
     "output_type": "execute_result"
    }
   ],
   "source": [
    "x = np.arange(10)\n",
    "x"
   ],
   "metadata": {
    "collapsed": false,
    "ExecuteTime": {
     "end_time": "2023-07-19T14:50:33.190662100Z",
     "start_time": "2023-07-19T14:50:33.150578800Z"
    }
   }
  },
  {
   "cell_type": "code",
   "execution_count": 6,
   "outputs": [
    {
     "data": {
      "text/plain": "array([0, 1, 2, 3, 4])"
     },
     "execution_count": 6,
     "metadata": {},
     "output_type": "execute_result"
    }
   ],
   "source": [
    "# 前五个元素\n",
    "x[:5]"
   ],
   "metadata": {
    "collapsed": false,
    "ExecuteTime": {
     "end_time": "2023-07-19T14:50:33.190662100Z",
     "start_time": "2023-07-19T14:50:33.178718100Z"
    }
   }
  },
  {
   "cell_type": "code",
   "execution_count": 7,
   "outputs": [
    {
     "data": {
      "text/plain": "array([4, 5, 6])"
     },
     "execution_count": 7,
     "metadata": {},
     "output_type": "execute_result"
    }
   ],
   "source": [
    "x[4:7]"
   ],
   "metadata": {
    "collapsed": false,
    "ExecuteTime": {
     "end_time": "2023-07-19T14:50:33.200702Z",
     "start_time": "2023-07-19T14:50:33.180790800Z"
    }
   }
  },
  {
   "cell_type": "code",
   "execution_count": 8,
   "outputs": [
    {
     "data": {
      "text/plain": "array([0, 2, 4, 6, 8])"
     },
     "execution_count": 8,
     "metadata": {},
     "output_type": "execute_result"
    }
   ],
   "source": [
    "x[::2]"
   ],
   "metadata": {
    "collapsed": false,
    "ExecuteTime": {
     "end_time": "2023-07-19T14:50:33.264002900Z",
     "start_time": "2023-07-19T14:50:33.194699100Z"
    }
   }
  },
  {
   "cell_type": "code",
   "execution_count": 9,
   "outputs": [
    {
     "data": {
      "text/plain": "array([1, 3, 5, 7, 9])"
     },
     "execution_count": 9,
     "metadata": {},
     "output_type": "execute_result"
    }
   ],
   "source": [
    "# 每隔一个元素，从索引1开始\n",
    "x[1::2]"
   ],
   "metadata": {
    "collapsed": false,
    "ExecuteTime": {
     "end_time": "2023-07-19T14:50:33.280523300Z",
     "start_time": "2023-07-19T14:50:33.210537400Z"
    }
   }
  },
  {
   "cell_type": "code",
   "execution_count": 10,
   "outputs": [
    {
     "data": {
      "text/plain": "array([9, 8, 7, 6, 5, 4, 3, 2, 1, 0])"
     },
     "execution_count": 10,
     "metadata": {},
     "output_type": "execute_result"
    }
   ],
   "source": [
    "x[::-1]"
   ],
   "metadata": {
    "collapsed": false,
    "ExecuteTime": {
     "end_time": "2023-07-19T14:50:33.280523300Z",
     "start_time": "2023-07-19T14:50:33.230811300Z"
    }
   }
  },
  {
   "cell_type": "code",
   "execution_count": 11,
   "outputs": [
    {
     "data": {
      "text/plain": "array([5, 3, 1])"
     },
     "execution_count": 11,
     "metadata": {},
     "output_type": "execute_result"
    }
   ],
   "source": [
    "\"\"\"\n",
    "当步长step为负值时， start 和 stop 参数默认是被交换的\n",
    "所以如下的表达式 [5::-2] -> [5:0:-2] -> [0:5:2]\n",
    "\n",
    "\"\"\"\n",
    "\n",
    "x[5::-2]"
   ],
   "metadata": {
    "collapsed": false,
    "ExecuteTime": {
     "end_time": "2023-07-19T14:50:33.280523300Z",
     "start_time": "2023-07-19T14:50:33.237570600Z"
    }
   }
  },
  {
   "cell_type": "markdown",
   "source": [
    "2. 多维子数组\n",
    "\n",
    "多维切片也采用同样的方式处理，用逗号分隔\n"
   ],
   "metadata": {
    "collapsed": false
   }
  },
  {
   "cell_type": "code",
   "execution_count": 12,
   "outputs": [
    {
     "data": {
      "text/plain": "array([[3, 5, 2, 4],\n       [7, 6, 8, 8],\n       [1, 6, 7, 7]])"
     },
     "execution_count": 12,
     "metadata": {},
     "output_type": "execute_result"
    }
   ],
   "source": [
    "x2"
   ],
   "metadata": {
    "collapsed": false,
    "ExecuteTime": {
     "end_time": "2023-07-19T14:50:33.280523300Z",
     "start_time": "2023-07-19T14:50:33.243133800Z"
    }
   }
  },
  {
   "cell_type": "code",
   "execution_count": 13,
   "outputs": [
    {
     "data": {
      "text/plain": "array([[3, 5, 2],\n       [7, 6, 8]])"
     },
     "execution_count": 13,
     "metadata": {},
     "output_type": "execute_result"
    }
   ],
   "source": [
    "\"\"\"\n",
    "在每个维度上操作:\n",
    "\n",
    ":2 -> 0:2:1\n",
    ":3 -> 0:3:1\n",
    "\n",
    "\"\"\"\n",
    "\n",
    "x2[:2, :3]"
   ],
   "metadata": {
    "collapsed": false,
    "ExecuteTime": {
     "end_time": "2023-07-19T14:50:33.295755600Z",
     "start_time": "2023-07-19T14:50:33.250564700Z"
    }
   }
  },
  {
   "cell_type": "code",
   "execution_count": 14,
   "outputs": [
    {
     "data": {
      "text/plain": "array([[3, 5, 2, 4],\n       [7, 6, 8, 8]])"
     },
     "execution_count": 14,
     "metadata": {},
     "output_type": "execute_result"
    }
   ],
   "source": [
    "x2[:2, ]"
   ],
   "metadata": {
    "collapsed": false,
    "ExecuteTime": {
     "end_time": "2023-07-19T14:50:33.295755600Z",
     "start_time": "2023-07-19T14:50:33.264002900Z"
    }
   }
  },
  {
   "cell_type": "code",
   "execution_count": 15,
   "outputs": [
    {
     "data": {
      "text/plain": "array([[3, 2],\n       [7, 8],\n       [1, 7]])"
     },
     "execution_count": 15,
     "metadata": {},
     "output_type": "execute_result"
    }
   ],
   "source": [
    "# 等价于\n",
    "# x2[:3, 0:4:2]\n",
    "\n",
    "x2[:3, ::2]"
   ],
   "metadata": {
    "collapsed": false,
    "ExecuteTime": {
     "end_time": "2023-07-19T14:50:33.340643800Z",
     "start_time": "2023-07-19T14:50:33.280523300Z"
    }
   }
  },
  {
   "cell_type": "code",
   "execution_count": 16,
   "outputs": [
    {
     "data": {
      "text/plain": "array([[7, 7, 6, 1],\n       [8, 8, 6, 7],\n       [4, 2, 5, 3]])"
     },
     "execution_count": 16,
     "metadata": {},
     "output_type": "execute_result"
    }
   ],
   "source": [
    "x2[::-1, ::-1]"
   ],
   "metadata": {
    "collapsed": false,
    "ExecuteTime": {
     "end_time": "2023-07-19T14:50:33.340643800Z",
     "start_time": "2023-07-19T14:50:33.300762500Z"
    }
   }
  },
  {
   "cell_type": "markdown",
   "source": [
    "3. 获取数组的行和列\n",
    "\n",
    "获取数组的单行和单列，可以将索引和切片组合起来实现这个功能，用一个冒号表示空切片"
   ],
   "metadata": {
    "collapsed": false
   }
  },
  {
   "cell_type": "code",
   "execution_count": 17,
   "outputs": [
    {
     "data": {
      "text/plain": "array([3, 7, 1])"
     },
     "execution_count": 17,
     "metadata": {},
     "output_type": "execute_result"
    }
   ],
   "source": [
    "x2[:, 0] # x2的第一列"
   ],
   "metadata": {
    "collapsed": false,
    "ExecuteTime": {
     "end_time": "2023-07-19T14:50:33.340643800Z",
     "start_time": "2023-07-19T14:50:33.309329100Z"
    }
   }
  },
  {
   "cell_type": "code",
   "execution_count": 18,
   "outputs": [
    {
     "data": {
      "text/plain": "array([3, 5, 2, 4])"
     },
     "execution_count": 18,
     "metadata": {},
     "output_type": "execute_result"
    }
   ],
   "source": [
    "x2[0, :] # x2的第一行"
   ],
   "metadata": {
    "collapsed": false,
    "ExecuteTime": {
     "end_time": "2023-07-19T14:50:33.340643800Z",
     "start_time": "2023-07-19T14:50:33.314936600Z"
    }
   }
  },
  {
   "cell_type": "code",
   "execution_count": 20,
   "outputs": [
    {
     "data": {
      "text/plain": "array([3, 5, 2, 4])"
     },
     "execution_count": 20,
     "metadata": {},
     "output_type": "execute_result"
    }
   ],
   "source": [
    "# 在获取行时，处于语法的简洁，可以省略空的切片\n",
    "\n",
    "x2[0]"
   ],
   "metadata": {
    "collapsed": false,
    "ExecuteTime": {
     "end_time": "2023-07-19T14:52:03.651335800Z",
     "start_time": "2023-07-19T14:52:03.633573100Z"
    }
   }
  },
  {
   "cell_type": "code",
   "execution_count": 21,
   "outputs": [
    {
     "data": {
      "text/plain": "array([[3, 5],\n       [7, 6]])"
     },
     "execution_count": 21,
     "metadata": {},
     "output_type": "execute_result"
    }
   ],
   "source": [
    "x2_sub = x2[:2, :2]\n",
    "x2_sub"
   ],
   "metadata": {
    "collapsed": false,
    "ExecuteTime": {
     "end_time": "2023-07-19T14:56:12.007113900Z",
     "start_time": "2023-07-19T14:56:11.992121800Z"
    }
   }
  },
  {
   "cell_type": "code",
   "execution_count": 22,
   "outputs": [
    {
     "data": {
      "text/plain": "array([[99,  5,  2,  4],\n       [ 7,  6,  8,  8],\n       [ 1,  6,  7,  7]])"
     },
     "execution_count": 22,
     "metadata": {},
     "output_type": "execute_result"
    }
   ],
   "source": [
    "x2_sub[0, 0] = 99\n",
    "\n",
    "x2 # 原始数组也被更改了"
   ],
   "metadata": {
    "collapsed": false,
    "ExecuteTime": {
     "end_time": "2023-07-19T14:56:36.158409300Z",
     "start_time": "2023-07-19T14:56:36.142241500Z"
    }
   }
  },
  {
   "cell_type": "code",
   "execution_count": 23,
   "outputs": [
    {
     "data": {
      "text/plain": "array([[99,  5],\n       [ 7,  6]])"
     },
     "execution_count": 23,
     "metadata": {},
     "output_type": "execute_result"
    }
   ],
   "source": [
    "x2_sub_copy = x2[:2, :2].copy()\n",
    "x2_sub_copy"
   ],
   "metadata": {
    "collapsed": false,
    "ExecuteTime": {
     "end_time": "2023-07-19T14:58:25.173454300Z",
     "start_time": "2023-07-19T14:58:25.161666200Z"
    }
   }
  },
  {
   "cell_type": "code",
   "execution_count": 24,
   "outputs": [
    {
     "data": {
      "text/plain": "array([[99,  5,  2,  4],\n       [ 7,  6,  8,  8],\n       [ 1,  6,  7,  7]])"
     },
     "execution_count": 24,
     "metadata": {},
     "output_type": "execute_result"
    }
   ],
   "source": [
    "x2_sub_copy[0, 0] = 4\n",
    "\n",
    "x2"
   ],
   "metadata": {
    "collapsed": false,
    "ExecuteTime": {
     "end_time": "2023-07-19T14:58:38.651915400Z",
     "start_time": "2023-07-19T14:58:38.641901200Z"
    }
   }
  },
  {
   "cell_type": "code",
   "execution_count": null,
   "outputs": [],
   "source": [],
   "metadata": {
    "collapsed": false
   }
  }
 ],
 "metadata": {
  "kernelspec": {
   "display_name": "Python 3",
   "language": "python",
   "name": "python3"
  },
  "language_info": {
   "codemirror_mode": {
    "name": "ipython",
    "version": 2
   },
   "file_extension": ".py",
   "mimetype": "text/x-python",
   "name": "python",
   "nbconvert_exporter": "python",
   "pygments_lexer": "ipython2",
   "version": "2.7.6"
  }
 },
 "nbformat": 4,
 "nbformat_minor": 0
}
