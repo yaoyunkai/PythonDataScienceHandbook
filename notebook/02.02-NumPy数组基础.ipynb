{
 "cells": [
  {
   "cell_type": "markdown",
   "source": [
    "# NumPy 数组基础\n",
    "\n",
    "## 数组的属性\n",
    "\n",
    "```\n",
    "\n",
    "x3 ndim:  3               数组的维度\n",
    "x3 shape: (3, 4, 5)       数组每个维度的大小\n",
    "x3 size:  60              数组的总大小\n",
    "x3 dtype: int32           数组的数据类型\n",
    "\n",
    "itemsize: 4 bytes         单个元素的字节数\n",
    "nbytes: 240 bytes         数组的总字节数\n",
    "\n",
    "```\n"
   ],
   "metadata": {
    "collapsed": false
   }
  },
  {
   "cell_type": "code",
   "execution_count": 1,
   "outputs": [],
   "source": [
    "import numpy as np\n",
    "\n",
    "np.random.seed(0)  # 设置随机种子\n",
    "\n",
    "x1 = np.random.randint(10, size=6)\n",
    "x2 = np.random.randint(10, size=(3, 4))\n",
    "x3 = np.random.randint(10, size=(3, 4, 5))\n"
   ],
   "metadata": {
    "collapsed": false,
    "ExecuteTime": {
     "end_time": "2023-07-23T13:41:03.651986500Z",
     "start_time": "2023-07-23T13:41:03.532257200Z"
    }
   }
  },
  {
   "cell_type": "code",
   "execution_count": 2,
   "outputs": [
    {
     "name": "stdout",
     "output_type": "stream",
     "text": [
      "x3 ndim:  3\n",
      "x3 shape: (3, 4, 5)\n",
      "x3 size:  60\n",
      "x3 dtype: int32\n",
      "itemsize: 4 bytes\n",
      "nbytes: 240 bytes\n"
     ]
    }
   ],
   "source": [
    "print(\"x3 ndim: \", x3.ndim)\n",
    "print(\"x3 shape:\", x3.shape)\n",
    "print(\"x3 size: \", x3.size)\n",
    "print(\"x3 dtype:\", x3.dtype)\n",
    "\n",
    "print(\"itemsize:\", x3.itemsize, \"bytes\")\n",
    "print(\"nbytes:\", x3.nbytes, \"bytes\")"
   ],
   "metadata": {
    "collapsed": false,
    "ExecuteTime": {
     "end_time": "2023-07-23T13:41:03.667031300Z",
     "start_time": "2023-07-23T13:41:03.651986500Z"
    }
   }
  },
  {
   "cell_type": "markdown",
   "source": [
    "## 数组的索引\n",
    "\n",
    "一维数组中，通过`[]` 获取第i个值\n",
    "\n",
    "二维数组通过 `[x,y]` 访问某个元素，也可以对其赋值来修改该元素\n"
   ],
   "metadata": {
    "collapsed": false
   }
  },
  {
   "cell_type": "code",
   "execution_count": 3,
   "outputs": [
    {
     "name": "stdout",
     "output_type": "stream",
     "text": [
      "[5 0 3 3 7 9]\n"
     ]
    },
    {
     "data": {
      "text/plain": "7"
     },
     "execution_count": 3,
     "metadata": {},
     "output_type": "execute_result"
    }
   ],
   "source": [
    "print(x1)\n",
    "\n",
    "var1 = x1[0]\n",
    "\n",
    "x1[4]\n"
   ],
   "metadata": {
    "collapsed": false,
    "ExecuteTime": {
     "end_time": "2023-07-23T13:41:03.745421500Z",
     "start_time": "2023-07-23T13:41:03.672166400Z"
    }
   }
  },
  {
   "cell_type": "code",
   "execution_count": 4,
   "outputs": [
    {
     "name": "stdout",
     "output_type": "stream",
     "text": [
      "[[3 5 2 4]\n",
      " [7 6 8 8]\n",
      " [1 6 7 7]]\n",
      "3\n",
      "1\n",
      "7\n"
     ]
    },
    {
     "data": {
      "text/plain": "array([7, 6, 8, 8])"
     },
     "execution_count": 4,
     "metadata": {},
     "output_type": "execute_result"
    }
   ],
   "source": [
    "print(x2)\n",
    "\n",
    "print(x2[0, 0])\n",
    "print(x2[2, 0])\n",
    "\n",
    "print(x2[-1, -1])\n",
    "\n",
    "# x2[0, 0] = 12\n",
    "\n",
    "# print(x2[1])\n",
    "\n",
    "x2[1]"
   ],
   "metadata": {
    "collapsed": false,
    "ExecuteTime": {
     "end_time": "2023-07-23T13:41:03.762074800Z",
     "start_time": "2023-07-23T13:41:03.682284900Z"
    }
   }
  },
  {
   "cell_type": "markdown",
   "source": [
    "## 数组的切片\n",
    "\n",
    "slice : `x[start:stop:step]`\n",
    "\n",
    "如果以上3个参数都未指定，那么它们会被设置为默认值 start=0, stop=维度的大小(size of dimension)和step=1\n",
    "\n",
    "数组切片返回的是数组数据的视图，而不是数值数据的副本。如果修改子数组，原始的数组也会被修改。\n",
    "\n",
    "在处理非常大的数据集时，可以获取或处理这些数据集的片段，而不用复制底层的数据缓存。\n",
    "\n",
    "-------\n",
    "\n",
    "创建数组的副本，可以显式的使用 `copy()` 方法\n",
    "\n",
    "\n",
    "1. 一维子数组"
   ],
   "metadata": {
    "collapsed": false
   }
  },
  {
   "cell_type": "code",
   "execution_count": 5,
   "outputs": [
    {
     "data": {
      "text/plain": "array([0, 1, 2, 3, 4, 5, 6, 7, 8, 9])"
     },
     "execution_count": 5,
     "metadata": {},
     "output_type": "execute_result"
    }
   ],
   "source": [
    "x = np.arange(10)\n",
    "x"
   ],
   "metadata": {
    "collapsed": false,
    "ExecuteTime": {
     "end_time": "2023-07-23T13:41:03.762074800Z",
     "start_time": "2023-07-23T13:41:03.701934900Z"
    }
   }
  },
  {
   "cell_type": "code",
   "execution_count": 6,
   "outputs": [
    {
     "data": {
      "text/plain": "array([0, 1, 2, 3, 4])"
     },
     "execution_count": 6,
     "metadata": {},
     "output_type": "execute_result"
    }
   ],
   "source": [
    "# 前五个元素\n",
    "x[:5]"
   ],
   "metadata": {
    "collapsed": false,
    "ExecuteTime": {
     "end_time": "2023-07-23T13:41:03.762074800Z",
     "start_time": "2023-07-23T13:41:03.714032100Z"
    }
   }
  },
  {
   "cell_type": "code",
   "execution_count": 7,
   "outputs": [
    {
     "data": {
      "text/plain": "array([4, 5, 6])"
     },
     "execution_count": 7,
     "metadata": {},
     "output_type": "execute_result"
    }
   ],
   "source": [
    "x[4:7]"
   ],
   "metadata": {
    "collapsed": false,
    "ExecuteTime": {
     "end_time": "2023-07-23T13:41:03.782314300Z",
     "start_time": "2023-07-23T13:41:03.732253200Z"
    }
   }
  },
  {
   "cell_type": "code",
   "execution_count": 8,
   "outputs": [
    {
     "data": {
      "text/plain": "array([0, 2, 4, 6, 8])"
     },
     "execution_count": 8,
     "metadata": {},
     "output_type": "execute_result"
    }
   ],
   "source": [
    "x[::2]"
   ],
   "metadata": {
    "collapsed": false,
    "ExecuteTime": {
     "end_time": "2023-07-23T13:41:03.782314300Z",
     "start_time": "2023-07-23T13:41:03.745421500Z"
    }
   }
  },
  {
   "cell_type": "code",
   "execution_count": 9,
   "outputs": [
    {
     "data": {
      "text/plain": "array([1, 3, 5, 7, 9])"
     },
     "execution_count": 9,
     "metadata": {},
     "output_type": "execute_result"
    }
   ],
   "source": [
    "# 每隔一个元素，从索引1开始\n",
    "x[1::2]"
   ],
   "metadata": {
    "collapsed": false,
    "ExecuteTime": {
     "end_time": "2023-07-23T13:41:03.939064600Z",
     "start_time": "2023-07-23T13:41:03.762074800Z"
    }
   }
  },
  {
   "cell_type": "code",
   "execution_count": 10,
   "outputs": [
    {
     "data": {
      "text/plain": "array([9, 8, 7, 6, 5, 4, 3, 2, 1, 0])"
     },
     "execution_count": 10,
     "metadata": {},
     "output_type": "execute_result"
    }
   ],
   "source": [
    "x[::-1]"
   ],
   "metadata": {
    "collapsed": false,
    "ExecuteTime": {
     "end_time": "2023-07-23T13:41:03.952077700Z",
     "start_time": "2023-07-23T13:41:03.782314300Z"
    }
   }
  },
  {
   "cell_type": "code",
   "execution_count": 11,
   "outputs": [
    {
     "data": {
      "text/plain": "array([5, 3, 1])"
     },
     "execution_count": 11,
     "metadata": {},
     "output_type": "execute_result"
    }
   ],
   "source": [
    "\"\"\"\n",
    "当步长step为负值时， start 和 stop 参数默认是被交换的\n",
    "所以如下的表达式 [5::-2] -> [5:0:-2] -> [0:5:2]\n",
    "\n",
    "\"\"\"\n",
    "\n",
    "x[5::-2]"
   ],
   "metadata": {
    "collapsed": false,
    "ExecuteTime": {
     "end_time": "2023-07-23T13:41:03.955083700Z",
     "start_time": "2023-07-23T13:41:03.793490900Z"
    }
   }
  },
  {
   "cell_type": "markdown",
   "source": [
    "2. 多维子数组\n",
    "\n",
    "多维切片也采用同样的方式处理，用逗号分隔\n"
   ],
   "metadata": {
    "collapsed": false
   }
  },
  {
   "cell_type": "code",
   "execution_count": 12,
   "outputs": [
    {
     "data": {
      "text/plain": "array([[3, 5, 2, 4],\n       [7, 6, 8, 8],\n       [1, 6, 7, 7]])"
     },
     "execution_count": 12,
     "metadata": {},
     "output_type": "execute_result"
    }
   ],
   "source": [
    "x2"
   ],
   "metadata": {
    "collapsed": false,
    "ExecuteTime": {
     "end_time": "2023-07-23T13:41:03.955083700Z",
     "start_time": "2023-07-23T13:41:03.806963900Z"
    }
   }
  },
  {
   "cell_type": "code",
   "execution_count": 13,
   "outputs": [
    {
     "data": {
      "text/plain": "array([[3, 5, 2],\n       [7, 6, 8]])"
     },
     "execution_count": 13,
     "metadata": {},
     "output_type": "execute_result"
    }
   ],
   "source": [
    "\"\"\"\n",
    "在每个维度上操作:\n",
    "\n",
    ":2 -> 0:2:1\n",
    ":3 -> 0:3:1\n",
    "\n",
    "\"\"\"\n",
    "\n",
    "x2[:2, :3]"
   ],
   "metadata": {
    "collapsed": false,
    "ExecuteTime": {
     "end_time": "2023-07-23T13:41:03.955083700Z",
     "start_time": "2023-07-23T13:41:03.822365600Z"
    }
   }
  },
  {
   "cell_type": "code",
   "execution_count": 14,
   "outputs": [
    {
     "data": {
      "text/plain": "array([[3, 5, 2, 4],\n       [7, 6, 8, 8]])"
     },
     "execution_count": 14,
     "metadata": {},
     "output_type": "execute_result"
    }
   ],
   "source": [
    "x2[:2, ]"
   ],
   "metadata": {
    "collapsed": false,
    "ExecuteTime": {
     "end_time": "2023-07-23T13:41:03.955083700Z",
     "start_time": "2023-07-23T13:41:03.840905200Z"
    }
   }
  },
  {
   "cell_type": "code",
   "execution_count": 15,
   "outputs": [
    {
     "data": {
      "text/plain": "array([[3, 2],\n       [7, 8],\n       [1, 7]])"
     },
     "execution_count": 15,
     "metadata": {},
     "output_type": "execute_result"
    }
   ],
   "source": [
    "# 等价于\n",
    "# x2[:3, 0:4:2]\n",
    "\n",
    "x2[:3, ::2]"
   ],
   "metadata": {
    "collapsed": false,
    "ExecuteTime": {
     "end_time": "2023-07-23T13:41:03.955083700Z",
     "start_time": "2023-07-23T13:41:03.851938300Z"
    }
   }
  },
  {
   "cell_type": "code",
   "execution_count": 16,
   "outputs": [
    {
     "data": {
      "text/plain": "array([[7, 7, 6, 1],\n       [8, 8, 6, 7],\n       [4, 2, 5, 3]])"
     },
     "execution_count": 16,
     "metadata": {},
     "output_type": "execute_result"
    }
   ],
   "source": [
    "x2[::-1, ::-1]"
   ],
   "metadata": {
    "collapsed": false,
    "ExecuteTime": {
     "end_time": "2023-07-23T13:41:03.955083700Z",
     "start_time": "2023-07-23T13:41:03.862247100Z"
    }
   }
  },
  {
   "cell_type": "markdown",
   "source": [
    "3. 获取数组的行和列\n",
    "\n",
    "获取数组的单行和单列，可以将索引和切片组合起来实现这个功能，用一个冒号表示空切片"
   ],
   "metadata": {
    "collapsed": false
   }
  },
  {
   "cell_type": "code",
   "execution_count": 17,
   "outputs": [
    {
     "data": {
      "text/plain": "array([3, 7, 1])"
     },
     "execution_count": 17,
     "metadata": {},
     "output_type": "execute_result"
    }
   ],
   "source": [
    "x2[:, 0]  # x2的第一列"
   ],
   "metadata": {
    "collapsed": false,
    "ExecuteTime": {
     "end_time": "2023-07-23T13:41:03.955083700Z",
     "start_time": "2023-07-23T13:41:03.876170Z"
    }
   }
  },
  {
   "cell_type": "code",
   "execution_count": 18,
   "outputs": [
    {
     "data": {
      "text/plain": "array([3, 5, 2, 4])"
     },
     "execution_count": 18,
     "metadata": {},
     "output_type": "execute_result"
    }
   ],
   "source": [
    "x2[0, :]  # x2的第一行"
   ],
   "metadata": {
    "collapsed": false,
    "ExecuteTime": {
     "end_time": "2023-07-23T13:41:03.955083700Z",
     "start_time": "2023-07-23T13:41:03.892054900Z"
    }
   }
  },
  {
   "cell_type": "code",
   "execution_count": 19,
   "outputs": [
    {
     "data": {
      "text/plain": "array([3, 5, 2, 4])"
     },
     "execution_count": 19,
     "metadata": {},
     "output_type": "execute_result"
    }
   ],
   "source": [
    "# 在获取行时，处于语法的简洁，可以省略空的切片\n",
    "\n",
    "x2[0]"
   ],
   "metadata": {
    "collapsed": false,
    "ExecuteTime": {
     "end_time": "2023-07-23T13:41:03.955083700Z",
     "start_time": "2023-07-23T13:41:03.912243600Z"
    }
   }
  },
  {
   "cell_type": "code",
   "execution_count": 20,
   "outputs": [
    {
     "data": {
      "text/plain": "array([[3, 5],\n       [7, 6]])"
     },
     "execution_count": 20,
     "metadata": {},
     "output_type": "execute_result"
    }
   ],
   "source": [
    "x2_sub = x2[:2, :2]\n",
    "x2_sub"
   ],
   "metadata": {
    "collapsed": false,
    "ExecuteTime": {
     "end_time": "2023-07-23T13:41:03.955083700Z",
     "start_time": "2023-07-23T13:41:03.923335900Z"
    }
   }
  },
  {
   "cell_type": "code",
   "execution_count": 21,
   "outputs": [
    {
     "data": {
      "text/plain": "array([[99,  5,  2,  4],\n       [ 7,  6,  8,  8],\n       [ 1,  6,  7,  7]])"
     },
     "execution_count": 21,
     "metadata": {},
     "output_type": "execute_result"
    }
   ],
   "source": [
    "x2_sub[0, 0] = 99\n",
    "\n",
    "x2  # 原始数组也被更改了"
   ],
   "metadata": {
    "collapsed": false,
    "ExecuteTime": {
     "end_time": "2023-07-23T13:41:03.955083700Z",
     "start_time": "2023-07-23T13:41:03.942071700Z"
    }
   }
  },
  {
   "cell_type": "code",
   "execution_count": 22,
   "outputs": [
    {
     "data": {
      "text/plain": "array([[99,  5],\n       [ 7,  6]])"
     },
     "execution_count": 22,
     "metadata": {},
     "output_type": "execute_result"
    }
   ],
   "source": [
    "x2_sub_copy = x2[:2, :2].copy()\n",
    "x2_sub_copy"
   ],
   "metadata": {
    "collapsed": false,
    "ExecuteTime": {
     "end_time": "2023-07-23T13:41:04.082354400Z",
     "start_time": "2023-07-23T13:41:03.962093200Z"
    }
   }
  },
  {
   "cell_type": "code",
   "execution_count": 23,
   "outputs": [
    {
     "data": {
      "text/plain": "array([[99,  5,  2,  4],\n       [ 7,  6,  8,  8],\n       [ 1,  6,  7,  7]])"
     },
     "execution_count": 23,
     "metadata": {},
     "output_type": "execute_result"
    }
   ],
   "source": [
    "x2_sub_copy[0, 0] = 4\n",
    "\n",
    "x2"
   ],
   "metadata": {
    "collapsed": false,
    "ExecuteTime": {
     "end_time": "2023-07-23T13:41:04.082354400Z",
     "start_time": "2023-07-23T13:41:03.976030800Z"
    }
   }
  },
  {
   "cell_type": "markdown",
   "source": [
    "## 数组的变形\n",
    "\n",
    "通过 reshape 函数，需要满足原始数组的大小和变形后数组的大小一致。reshape 会用原始数组的一个非副本视图\n",
    "\n",
    "将一个一维数组转变为二维的行或者列的矩阵：\n",
    "\n",
    "在线性代数中，二维矩阵是由行和列组成的矩形排列的数字集合。行向量和列向量是指从矩阵中提取出的特定向量形式。\n",
    "\n",
    "行向量和列向量是什么：\n",
    "\n",
    "行向量是指从矩阵中提取出的水平方向的向量。也就是说，它是矩阵的一行元素构成的向量。行向量通常用于表示矩阵的某一行的数据。\n",
    "\n",
    "列向量是指从矩阵中提取出的垂直方向的向量。也就是说，它是矩阵的一列元素构成的向量。列向量通常用于表示矩阵的某一列的数据。\n",
    "\n",
    "通过 newaxis 关键字，新的维度\n"
   ],
   "metadata": {
    "collapsed": false
   }
  },
  {
   "cell_type": "code",
   "execution_count": 24,
   "outputs": [
    {
     "data": {
      "text/plain": "array([20,  2,  3,  4,  5,  6,  7,  8,  9])"
     },
     "execution_count": 24,
     "metadata": {},
     "output_type": "execute_result"
    }
   ],
   "source": [
    "grid = np.arange(1, 10).reshape((3, 3))\n",
    "# grid\n",
    "\n",
    "arr1 = np.arange(1, 10)\n",
    "arr2 = arr1.reshape((3, 3))\n",
    "\n",
    "arr2[0, 0] = 20\n",
    "arr1"
   ],
   "metadata": {
    "collapsed": false,
    "ExecuteTime": {
     "end_time": "2023-07-23T13:41:04.082354400Z",
     "start_time": "2023-07-23T13:41:03.992268100Z"
    }
   }
  },
  {
   "cell_type": "code",
   "execution_count": 25,
   "outputs": [
    {
     "data": {
      "text/plain": "array([[1, 2, 3]])"
     },
     "execution_count": 25,
     "metadata": {},
     "output_type": "execute_result"
    }
   ],
   "source": [
    "x = np.array([1, 2, 3])\n",
    "x.reshape((1, 3))"
   ],
   "metadata": {
    "collapsed": false,
    "ExecuteTime": {
     "end_time": "2023-07-23T13:41:04.082354400Z",
     "start_time": "2023-07-23T13:41:04.001949Z"
    }
   }
  },
  {
   "cell_type": "code",
   "execution_count": 26,
   "outputs": [
    {
     "data": {
      "text/plain": "array([[1, 2, 3]])"
     },
     "execution_count": 26,
     "metadata": {},
     "output_type": "execute_result"
    }
   ],
   "source": [
    "# 通过nexaxs获得的行向量\n",
    "x[np.newaxis, :]"
   ],
   "metadata": {
    "collapsed": false,
    "ExecuteTime": {
     "end_time": "2023-07-23T13:41:04.082354400Z",
     "start_time": "2023-07-23T13:41:04.013766400Z"
    }
   }
  },
  {
   "cell_type": "code",
   "execution_count": 27,
   "outputs": [
    {
     "data": {
      "text/plain": "array([[1],\n       [2],\n       [3]])"
     },
     "execution_count": 27,
     "metadata": {},
     "output_type": "execute_result"
    }
   ],
   "source": [
    "x[:, np.newaxis]"
   ],
   "metadata": {
    "collapsed": false,
    "ExecuteTime": {
     "end_time": "2023-07-23T13:41:04.122279900Z",
     "start_time": "2023-07-23T13:41:04.022408Z"
    }
   }
  },
  {
   "cell_type": "markdown",
   "source": [
    "## 数组的拼接和分裂\n",
    "\n",
    "主要有如下拼接方法：\n",
    "\n",
    "- `np.concatenate`\n",
    "- `np.vstack`\n",
    "- `np.hstack`\n",
    "\n",
    "分裂的方法:\n",
    "\n",
    "- `np.split`: 参数是分裂点，N个分裂点会得到N+1个子数组\n",
    "- `np.hsplit`\n",
    "- `np.vsplit`\n"
   ],
   "metadata": {
    "collapsed": false
   }
  },
  {
   "cell_type": "code",
   "execution_count": 28,
   "outputs": [
    {
     "data": {
      "text/plain": "array([   1,    2,    3,    4,    5,    6,   99,   99,  999, 9999])"
     },
     "execution_count": 28,
     "metadata": {},
     "output_type": "execute_result"
    }
   ],
   "source": [
    "# 拼接多个数组\n",
    "\n",
    "x = np.array([1, 2, 3])\n",
    "y = np.array([4, 5, 6])\n",
    "\n",
    "# np.concatenate([x, y])\n",
    "\n",
    "z = [99, 99, 999, 9999]\n",
    "\n",
    "np.concatenate([x, y, z])"
   ],
   "metadata": {
    "collapsed": false,
    "ExecuteTime": {
     "end_time": "2023-07-23T13:41:04.122279900Z",
     "start_time": "2023-07-23T13:41:04.043761900Z"
    }
   }
  },
  {
   "cell_type": "code",
   "execution_count": 29,
   "outputs": [
    {
     "data": {
      "text/plain": "array([[1, 2, 3, 1, 2, 3],\n       [4, 5, 6, 4, 5, 6]])"
     },
     "execution_count": 29,
     "metadata": {},
     "output_type": "execute_result"
    }
   ],
   "source": [
    "# 二维数组的拼接\n",
    "\n",
    "# 沿着第一个轴拼接\n",
    "grid1 = np.array([[1, 2, 3], [4, 5, 6]])\n",
    "np.concatenate([grid1, grid1])\n",
    "\n",
    "np.concatenate([grid1, grid1], axis=1)"
   ],
   "metadata": {
    "collapsed": false,
    "ExecuteTime": {
     "end_time": "2023-07-23T13:41:04.122279900Z",
     "start_time": "2023-07-23T13:41:04.050905500Z"
    }
   }
  },
  {
   "cell_type": "code",
   "execution_count": 30,
   "outputs": [
    {
     "data": {
      "text/plain": "array([[1, 2, 3],\n       [9, 8, 7],\n       [6, 5, 4]])"
     },
     "execution_count": 30,
     "metadata": {},
     "output_type": "execute_result"
    }
   ],
   "source": [
    "# 垂直栈\n",
    "\n",
    "x = np.array([1, 2, 3])\n",
    "grid3 = np.array([[9, 8, 7],\n",
    "                  [6, 5, 4]])\n",
    "\n",
    "# vertically stack the arrays\n",
    "np.vstack([x, grid3])"
   ],
   "metadata": {
    "collapsed": false,
    "ExecuteTime": {
     "end_time": "2023-07-23T13:41:04.122279900Z",
     "start_time": "2023-07-23T13:41:04.059218900Z"
    }
   }
  },
  {
   "cell_type": "code",
   "execution_count": 31,
   "outputs": [
    {
     "data": {
      "text/plain": "array([[ 9,  8,  7, 99, 56, 53],\n       [ 6,  5,  4, 99, 45, 67]])"
     },
     "execution_count": 31,
     "metadata": {},
     "output_type": "execute_result"
    }
   ],
   "source": [
    "# 水平栈\n",
    "\n",
    "y = np.array([[99, 56, 53],\n",
    "              [99, 45, 67]])\n",
    "np.hstack([grid3, y])"
   ],
   "metadata": {
    "collapsed": false,
    "ExecuteTime": {
     "end_time": "2023-07-23T13:41:04.122279900Z",
     "start_time": "2023-07-23T13:41:04.066235300Z"
    }
   }
  },
  {
   "cell_type": "code",
   "execution_count": 32,
   "outputs": [
    {
     "name": "stdout",
     "output_type": "stream",
     "text": [
      "[1 2 3] [99 99] [3 2 1]\n"
     ]
    }
   ],
   "source": [
    "x = [1, 2, 3, 99, 99, 3, 2, 1]\n",
    "# split的参数是分裂点\n",
    "x1, x2, x3 = np.split(x, [3, 5])\n",
    "print(x1, x2, x3)"
   ],
   "metadata": {
    "collapsed": false,
    "ExecuteTime": {
     "end_time": "2023-07-23T13:41:04.122279900Z",
     "start_time": "2023-07-23T13:41:04.076326700Z"
    }
   }
  },
  {
   "cell_type": "code",
   "execution_count": 33,
   "outputs": [
    {
     "name": "stdout",
     "output_type": "stream",
     "text": [
      "[[ 0  1  2  3]\n",
      " [ 4  5  6  7]\n",
      " [ 8  9 10 11]\n",
      " [12 13 14 15]]\n",
      "[[0 1 2 3]\n",
      " [4 5 6 7]]\n",
      "[[ 8  9 10 11]\n",
      " [12 13 14 15]]\n",
      "[[ 0  1]\n",
      " [ 4  5]\n",
      " [ 8  9]\n",
      " [12 13]]\n",
      "[[ 2  3]\n",
      " [ 6  7]\n",
      " [10 11]\n",
      " [14 15]]\n"
     ]
    }
   ],
   "source": [
    "grid = np.arange(16).reshape((4, 4))\n",
    "\n",
    "print(grid)\n",
    "\n",
    "upper, lower = np.vsplit(grid, [2])\n",
    "print(upper)\n",
    "print(lower)\n",
    "\n",
    "left, right = np.hsplit(grid, [2])\n",
    "print(left)\n",
    "print(right)\n"
   ],
   "metadata": {
    "collapsed": false,
    "ExecuteTime": {
     "end_time": "2023-07-23T13:41:04.122279900Z",
     "start_time": "2023-07-23T13:41:04.092138Z"
    }
   }
  }
 ],
 "metadata": {
  "kernelspec": {
   "display_name": "Python 3",
   "language": "python",
   "name": "python3"
  },
  "language_info": {
   "codemirror_mode": {
    "name": "ipython",
    "version": 2
   },
   "file_extension": ".py",
   "mimetype": "text/x-python",
   "name": "python",
   "nbconvert_exporter": "python",
   "pygments_lexer": "ipython2",
   "version": "2.7.6"
  }
 },
 "nbformat": 4,
 "nbformat_minor": 0
}
