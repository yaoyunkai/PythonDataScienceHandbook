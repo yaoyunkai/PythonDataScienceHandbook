{
 "cells": [
  {
   "cell_type": "markdown",
   "source": [
    "# 3. pandas\n",
    "\n",
    "DataFrame, 是一种带行标签和列标签，支持相同类型数据和缺失值的多维数组\n",
    "\n",
    "Series: 一个带索引数据构成的一维数组\n",
    "```\n",
    "values -> ndarray\n",
    "index  -> RangeIndex\n",
    "\n",
    "Series 对象用一种显式定义的索引与数值关联\n",
    "\n",
    "Series 是特殊的字典\n",
    "\n",
    "怎样创建Series对象??\n",
    "\n",
    "\n",
    "```\n",
    "\n",
    "\n",
    "DataFrame\n",
    "\n",
    "Index\n"
   ],
   "metadata": {
    "collapsed": false
   },
   "id": "8bacf70d81ea14e2"
  },
  {
   "cell_type": "code",
   "execution_count": 1,
   "outputs": [],
   "source": [
    "import numpy as np\n",
    "import pandas as pd"
   ],
   "metadata": {
    "collapsed": false,
    "ExecuteTime": {
     "end_time": "2023-08-13T14:22:26.299362700Z",
     "start_time": "2023-08-13T14:22:24.906695100Z"
    }
   },
   "id": "2ec98b2c93762866"
  },
  {
   "cell_type": "code",
   "execution_count": 2,
   "outputs": [
    {
     "data": {
      "text/plain": "0    0.25\n1    0.50\n2    0.75\n3    1.00\ndtype: float64"
     },
     "execution_count": 2,
     "metadata": {},
     "output_type": "execute_result"
    }
   ],
   "source": [
    "data = pd.Series([0.25, 0.5, 0.75, 1.0])\n",
    "data"
   ],
   "metadata": {
    "collapsed": false,
    "ExecuteTime": {
     "end_time": "2023-08-13T14:22:26.316365200Z",
     "start_time": "2023-08-13T14:22:26.305363500Z"
    }
   },
   "id": "f1b142eb917c6ea7"
  },
  {
   "cell_type": "code",
   "execution_count": 3,
   "outputs": [
    {
     "name": "stdout",
     "output_type": "stream",
     "text": [
      "[0.25 0.5  0.75 1.  ]\n",
      "Series values type <class 'numpy.ndarray'>\n"
     ]
    }
   ],
   "source": [
    "print(data.values)\n",
    "print(f'Series values type {type(data.values)}')"
   ],
   "metadata": {
    "collapsed": false,
    "ExecuteTime": {
     "end_time": "2023-08-13T14:22:26.359730100Z",
     "start_time": "2023-08-13T14:22:26.317364Z"
    }
   },
   "id": "9ab688ad412149aa"
  },
  {
   "cell_type": "code",
   "execution_count": 4,
   "outputs": [
    {
     "name": "stdout",
     "output_type": "stream",
     "text": [
      "RangeIndex(start=0, stop=4, step=1)\n",
      "Series index type <class 'pandas.core.indexes.range.RangeIndex'>\n"
     ]
    }
   ],
   "source": [
    "print(data.index)\n",
    "print(f'Series index type {type(data.index)}')\n"
   ],
   "metadata": {
    "collapsed": false,
    "ExecuteTime": {
     "end_time": "2023-08-13T14:22:26.361730200Z",
     "start_time": "2023-08-13T14:22:26.333364100Z"
    }
   },
   "id": "c4353c4e20a57976"
  },
  {
   "cell_type": "code",
   "execution_count": 5,
   "outputs": [
    {
     "name": "stdout",
     "output_type": "stream",
     "text": [
      "0.5\n",
      "1    0.50\n",
      "2    0.75\n",
      "dtype: float64\n"
     ]
    }
   ],
   "source": [
    "print(data[1])\n",
    "\n",
    "print(data[1:3])\n"
   ],
   "metadata": {
    "collapsed": false,
    "ExecuteTime": {
     "end_time": "2023-08-13T14:22:26.363730900Z",
     "start_time": "2023-08-13T14:22:26.350372900Z"
    }
   },
   "id": "900c787bfa053077"
  },
  {
   "cell_type": "code",
   "execution_count": 6,
   "outputs": [
    {
     "data": {
      "text/plain": "a    0.25\nb    0.50\nc    0.75\nd    1.00\ndtype: float64"
     },
     "execution_count": 6,
     "metadata": {},
     "output_type": "execute_result"
    }
   ],
   "source": [
    "data = pd.Series([0.25, 0.5, 0.75, 1.0],\n",
    "                 index=['a', 'b', 'c', 'd'])\n",
    "\n",
    "data"
   ],
   "metadata": {
    "collapsed": false,
    "ExecuteTime": {
     "end_time": "2023-08-13T14:22:26.396724900Z",
     "start_time": "2023-08-13T14:22:26.362730800Z"
    }
   },
   "id": "4120320e343a6676"
  },
  {
   "cell_type": "code",
   "execution_count": 7,
   "outputs": [
    {
     "data": {
      "text/plain": "2    0.25\n5    0.50\n3    0.75\n7    1.00\ndtype: float64"
     },
     "execution_count": 7,
     "metadata": {},
     "output_type": "execute_result"
    }
   ],
   "source": [
    "# 使用不连续或者不按顺序的索引\n",
    "data = pd.Series([0.25, 0.5, 0.75, 1.0],\n",
    "                 index=[2, 5, 3, 7])\n",
    "data"
   ],
   "metadata": {
    "collapsed": false,
    "ExecuteTime": {
     "end_time": "2023-08-13T14:22:26.497727Z",
     "start_time": "2023-08-13T14:22:26.382725800Z"
    }
   },
   "id": "e433867cdd2dfc24"
  },
  {
   "cell_type": "code",
   "execution_count": 8,
   "outputs": [
    {
     "data": {
      "text/plain": "California    38332521\nTexas         26448193\nNew York      19651127\nFlorida       19552860\nIllinois      12882135\ndtype: int64"
     },
     "execution_count": 8,
     "metadata": {},
     "output_type": "execute_result"
    }
   ],
   "source": [
    "\"\"\"\n",
    "一种特殊的python字典，\n",
    "将一种类型键映射到一组类型值的数据结构\n",
    "\n",
    "\"\"\"\n",
    "\n",
    "population_dict = {'California': 38332521,\n",
    "                   'Texas': 26448193,\n",
    "                   'New York': 19651127,\n",
    "                   'Florida': 19552860,\n",
    "                   'Illinois': 12882135}\n",
    "population = pd.Series(population_dict)\n",
    "population"
   ],
   "metadata": {
    "collapsed": false,
    "ExecuteTime": {
     "end_time": "2023-08-13T14:22:26.501766200Z",
     "start_time": "2023-08-13T14:22:26.400748700Z"
    }
   },
   "id": "5eba0fb10d725d8d"
  },
  {
   "cell_type": "code",
   "execution_count": 9,
   "outputs": [
    {
     "data": {
      "text/plain": "38332521"
     },
     "execution_count": 9,
     "metadata": {},
     "output_type": "execute_result"
    }
   ],
   "source": [
    "# 可以使用字典的方式来获取数值\n",
    "population['California']"
   ],
   "metadata": {
    "collapsed": false,
    "ExecuteTime": {
     "end_time": "2023-08-13T14:22:26.502725600Z",
     "start_time": "2023-08-13T14:22:26.410726200Z"
    }
   },
   "id": "81fd843b96b6a315"
  },
  {
   "cell_type": "code",
   "execution_count": 10,
   "outputs": [
    {
     "data": {
      "text/plain": "California    38332521\nTexas         26448193\nNew York      19651127\ndtype: int64"
     },
     "execution_count": 10,
     "metadata": {},
     "output_type": "execute_result"
    }
   ],
   "source": [
    "population['California': 'New York']"
   ],
   "metadata": {
    "collapsed": false,
    "ExecuteTime": {
     "end_time": "2023-08-13T14:22:26.511765400Z",
     "start_time": "2023-08-13T14:22:26.432726200Z"
    }
   },
   "id": "8d9c58c091164ada"
  },
  {
   "cell_type": "code",
   "execution_count": 11,
   "outputs": [],
   "source": [
    "\"\"\"\n",
    "每一种形式都可以通过显式指定索引筛选结果，Series对象只会保留显式定义的键值对\n",
    "\n",
    "\"\"\"\n",
    "\n",
    "s1 = pd.Series([2, 4, 6])\n",
    "s2 = pd.Series(5, index=[100, 200, 300])\n",
    "s3 = pd.Series({2: 'a', 1: 'b', 3: 'c'})\n",
    "s4 = pd.Series({2: 'a', 1: 'b', 3: 'c'}, index=[3, 2])\n",
    "\n"
   ],
   "metadata": {
    "collapsed": false,
    "ExecuteTime": {
     "end_time": "2023-08-13T14:22:26.511765400Z",
     "start_time": "2023-08-13T14:22:26.444726900Z"
    }
   },
   "id": "b412b624e6c7644c"
  },
  {
   "cell_type": "markdown",
   "source": [
    "## DataFrame对象\n",
    "\n",
    "index属性来获取行标签索引\n",
    "\n",
    "columns 列标签索引\n",
    "\n",
    "DataFrame 亦可以看做是一个特殊的字典\n"
   ],
   "metadata": {
    "collapsed": false
   },
   "id": "69f2bf6a7daa6918"
  },
  {
   "cell_type": "code",
   "execution_count": 12,
   "outputs": [
    {
     "data": {
      "text/plain": "California    423967\nTexas         695662\nNew York      141297\nFlorida       170312\nIllinois      149995\ndtype: int64"
     },
     "execution_count": 12,
     "metadata": {},
     "output_type": "execute_result"
    }
   ],
   "source": [
    "area_dict = {'California': 423967, 'Texas': 695662, 'New York': 141297,\n",
    "             'Florida': 170312, 'Illinois': 149995}\n",
    "area = pd.Series(area_dict)\n",
    "area"
   ],
   "metadata": {
    "collapsed": false,
    "ExecuteTime": {
     "end_time": "2023-08-13T14:23:58.408174700Z",
     "start_time": "2023-08-13T14:23:58.380515400Z"
    }
   },
   "id": "12e771064908cab"
  },
  {
   "cell_type": "code",
   "execution_count": 13,
   "outputs": [
    {
     "data": {
      "text/plain": "            population    area\nCalifornia    38332521  423967\nTexas         26448193  695662\nNew York      19651127  141297\nFlorida       19552860  170312\nIllinois      12882135  149995",
      "text/html": "<div>\n<style scoped>\n    .dataframe tbody tr th:only-of-type {\n        vertical-align: middle;\n    }\n\n    .dataframe tbody tr th {\n        vertical-align: top;\n    }\n\n    .dataframe thead th {\n        text-align: right;\n    }\n</style>\n<table border=\"1\" class=\"dataframe\">\n  <thead>\n    <tr style=\"text-align: right;\">\n      <th></th>\n      <th>population</th>\n      <th>area</th>\n    </tr>\n  </thead>\n  <tbody>\n    <tr>\n      <th>California</th>\n      <td>38332521</td>\n      <td>423967</td>\n    </tr>\n    <tr>\n      <th>Texas</th>\n      <td>26448193</td>\n      <td>695662</td>\n    </tr>\n    <tr>\n      <th>New York</th>\n      <td>19651127</td>\n      <td>141297</td>\n    </tr>\n    <tr>\n      <th>Florida</th>\n      <td>19552860</td>\n      <td>170312</td>\n    </tr>\n    <tr>\n      <th>Illinois</th>\n      <td>12882135</td>\n      <td>149995</td>\n    </tr>\n  </tbody>\n</table>\n</div>"
     },
     "execution_count": 13,
     "metadata": {},
     "output_type": "execute_result"
    }
   ],
   "source": [
    "states = pd.DataFrame({'population': population,\n",
    "                       'area': area})\n",
    "states"
   ],
   "metadata": {
    "collapsed": false,
    "ExecuteTime": {
     "end_time": "2023-08-13T14:24:24.628399100Z",
     "start_time": "2023-08-13T14:24:24.578650400Z"
    }
   },
   "id": "1184e3e15042df76"
  },
  {
   "cell_type": "code",
   "execution_count": 15,
   "outputs": [
    {
     "name": "stdout",
     "output_type": "stream",
     "text": [
      "Index(['California', 'Texas', 'New York', 'Florida', 'Illinois'], dtype='object')\n",
      "Index(['population', 'area'], dtype='object')\n"
     ]
    }
   ],
   "source": [
    "# index 属性\n",
    "print(states.index)\n",
    "\n",
    "print(states.columns)"
   ],
   "metadata": {
    "collapsed": false,
    "ExecuteTime": {
     "end_time": "2023-08-13T14:26:17.099107300Z",
     "start_time": "2023-08-13T14:26:17.069729200Z"
    }
   },
   "id": "f5efabfb756d17b8"
  },
  {
   "cell_type": "code",
   "execution_count": 16,
   "outputs": [
    {
     "name": "stdout",
     "output_type": "stream",
     "text": [
      "California    423967\n",
      "Texas         695662\n",
      "New York      141297\n",
      "Florida       170312\n",
      "Illinois      149995\n",
      "Name: area, dtype: int64\n"
     ]
    }
   ],
   "source": [
    "print(states['area'])"
   ],
   "metadata": {
    "collapsed": false,
    "ExecuteTime": {
     "end_time": "2023-08-13T14:27:55.931296100Z",
     "start_time": "2023-08-13T14:27:55.891250900Z"
    }
   },
   "id": "76c1a8c5664ad72b"
  },
  {
   "cell_type": "markdown",
   "source": [
    "### 创建DataFrame的方式\n",
    "\n"
   ],
   "metadata": {
    "collapsed": false
   },
   "id": "bfb59e16bc119684"
  },
  {
   "cell_type": "code",
   "execution_count": 17,
   "outputs": [
    {
     "name": "stdout",
     "output_type": "stream",
     "text": [
      "            population\n",
      "California    38332521\n",
      "Texas         26448193\n",
      "New York      19651127\n",
      "Florida       19552860\n",
      "Illinois      12882135\n",
      "   a  b\n",
      "0  0  0\n",
      "1  1  2\n",
      "2  2  4\n",
      "            population    area\n",
      "California    38332521  423967\n",
      "Texas         26448193  695662\n",
      "New York      19651127  141297\n",
      "Florida       19552860  170312\n",
      "Illinois      12882135  149995\n",
      "        foo       bar\n",
      "a  0.020944  0.610888\n",
      "b  0.286238  0.961391\n",
      "c  0.603803  0.002924\n",
      "   A    B\n",
      "0  0  0.0\n",
      "1  0  0.0\n",
      "2  0  0.0\n"
     ]
    }
   ],
   "source": [
    "df1 = pd.DataFrame(population, columns=['population'])\n",
    "print(df1)\n",
    "\n",
    "# 通过字典列表来创建, 字典某些键不存在时，Pandas会使用 NaN\n",
    "data = [{'a': i, 'b': 2 * i} for i in range(3)]\n",
    "df2 = pd.DataFrame(data)\n",
    "print(df2)\n",
    "\n",
    "# 通过Series对象字典创建\n",
    "df3 = pd.DataFrame({'population': population, 'area': area})\n",
    "print(df3)\n",
    "\n",
    "# 通过Numpy二维数组\n",
    "df4 = pd.DataFrame(np.random.rand(3, 2), columns=['foo', 'bar'], index=['a', 'b', 'c'])\n",
    "print(df4)\n",
    "\n",
    "# 通过Numpy结构化数组创建\n",
    "df5 = pd.DataFrame(np.zeros(3, dtype=[('A', 'i8'), ('B', 'f8')]))\n",
    "print(df5)"
   ],
   "metadata": {
    "collapsed": false,
    "ExecuteTime": {
     "end_time": "2023-08-13T14:35:46.950677800Z",
     "start_time": "2023-08-13T14:35:46.917220900Z"
    }
   },
   "id": "d9e913771da401cf"
  },
  {
   "cell_type": "markdown",
   "source": [
    "## 3.2.3 Index对象\n",
    "\n",
    "看作一个不可变数组或者有序集合,实际上是一个多集，因为index对象可能会包含重复值, 还有和numpy数组相识的属性\n",
    "\n",
    "index 可以看做有序集合，支持集合的一些操作。\n"
   ],
   "metadata": {
    "collapsed": false
   },
   "id": "590d3fd165775ee2"
  },
  {
   "cell_type": "code",
   "execution_count": 20,
   "outputs": [
    {
     "name": "stdout",
     "output_type": "stream",
     "text": [
      "Int64Index([2, 3, 5, 7, 11], dtype='int64')\n",
      "3\n",
      "Int64Index([2, 5, 11], dtype='int64')\n",
      "5 (5,) 1 int64\n",
      "Index does not support mutable operations\n"
     ]
    }
   ],
   "source": [
    "ind = pd.Index([2, 3, 5, 7, 11])\n",
    "\n",
    "print(ind)\n",
    "print(ind[1])\n",
    "print(ind[::2])\n",
    "\n",
    "print(ind.size, ind.shape, ind.ndim, ind.dtype)\n",
    "\n",
    "try:\n",
    "    ind[1] = 4\n",
    "except Exception as e:\n",
    "    # print(Exception)\n",
    "    print(e)"
   ],
   "metadata": {
    "collapsed": false,
    "ExecuteTime": {
     "end_time": "2023-08-13T14:42:33.247117700Z",
     "start_time": "2023-08-13T14:42:33.231976400Z"
    }
   },
   "id": "345bdecb1eefb146"
  },
  {
   "cell_type": "code",
   "execution_count": 26,
   "outputs": [
    {
     "name": "stdout",
     "output_type": "stream",
     "text": [
      "Int64Index([3, 5, 7], dtype='int64')\n",
      "Int64Index([1, 2, 3, 5, 7, 9, 11], dtype='int64')\n",
      "Int64Index([1, 2, 9, 11], dtype='int64')\n"
     ]
    }
   ],
   "source": [
    "indA = pd.Index([1, 3, 5, 7, 9])\n",
    "indB = pd.Index([2, 3, 5, 7, 11])\n",
    "\n",
    "print(indA.intersection(indB))\n",
    "print(indA.union(indB))\n",
    "print(indA.symmetric_difference(indB))\n"
   ],
   "metadata": {
    "collapsed": false,
    "ExecuteTime": {
     "end_time": "2023-08-13T14:47:33.099254200Z",
     "start_time": "2023-08-13T14:47:33.083569700Z"
    }
   },
   "id": "c5de382ca4992300"
  },
  {
   "cell_type": "code",
   "execution_count": null,
   "outputs": [],
   "source": [],
   "metadata": {
    "collapsed": false
   },
   "id": "66ec5ca35ece9ff5"
  }
 ],
 "metadata": {
  "kernelspec": {
   "display_name": "Python 3",
   "language": "python",
   "name": "python3"
  },
  "language_info": {
   "codemirror_mode": {
    "name": "ipython",
    "version": 2
   },
   "file_extension": ".py",
   "mimetype": "text/x-python",
   "name": "python",
   "nbconvert_exporter": "python",
   "pygments_lexer": "ipython2",
   "version": "2.7.6"
  }
 },
 "nbformat": 4,
 "nbformat_minor": 5
}
