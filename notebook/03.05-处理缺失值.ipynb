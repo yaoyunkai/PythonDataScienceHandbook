{
 "cells": [
  {
   "cell_type": "markdown",
   "source": [
    "# 3.5 处理缺失值\n",
    "\n",
    "三种形式: null NaN NA\n",
    "\n",
    "两种方式:\n",
    "\n",
    "- 通过一个覆盖全局的掩码表示缺失值\n",
    "- 用一个标签值表示缺失值\n",
    "\n",
    "Pandas选择了用标签方法表示缺失值，包括 浮点数据的NaN 和 python的 None对象。\n",
    "\n",
    "无论和NaN进行何种操作，最终结果都是NaN\n",
    "\n",
    "Pandas中字符串类型的数据通常是用object类型存储的\n",
    "\n",
    "Pandas不同类型缺失值的转换规则\n",
    "\n",
    "| Typeclass  | Conversion When Storing NAs | NA Sentinel Value  |\n",
    "|------------|-----------------------------|--------------------|\n",
    "| `floating` | No change                   | `np.nan`           |\n",
    "| `object`   | No change                   | `None` or `np.nan` |\n",
    "| `integer`  | Cast to `float64`           | `np.nan`           |\n",
    "| `boolean`  | Cast to `object`            | `None` or `np.nan` |\n"
   ],
   "metadata": {
    "collapsed": false
   },
   "id": "f68d616e57ce443f"
  },
  {
   "cell_type": "code",
   "execution_count": 1,
   "outputs": [
    {
     "name": "stdout",
     "output_type": "stream",
     "text": [
      "object\n"
     ]
    },
    {
     "data": {
      "text/plain": "array([1, None, 3, 4], dtype=object)"
     },
     "execution_count": 1,
     "metadata": {},
     "output_type": "execute_result"
    }
   ],
   "source": [
    "import numpy as np\n",
    "import pandas as pd\n",
    "\n",
    "vals1 = np.array([1, None, 3, 4])\n",
    "print(vals1.dtype)\n",
    "\n",
    "vals1"
   ],
   "metadata": {
    "collapsed": false,
    "ExecuteTime": {
     "end_time": "2023-08-14T13:16:27.903239400Z",
     "start_time": "2023-08-14T13:16:27.403404600Z"
    }
   },
   "id": "2511a76e57e65a09"
  },
  {
   "cell_type": "code",
   "execution_count": 2,
   "outputs": [
    {
     "data": {
      "text/plain": "dtype('float64')"
     },
     "execution_count": 2,
     "metadata": {},
     "output_type": "execute_result"
    }
   ],
   "source": [
    "vals2 = np.array([1, np.nan, 3, 4])\n",
    "vals2.dtype"
   ],
   "metadata": {
    "collapsed": false,
    "ExecuteTime": {
     "end_time": "2023-08-14T13:16:27.979362Z",
     "start_time": "2023-08-14T13:16:27.903239400Z"
    }
   },
   "id": "6a1f91c93a9ba72f"
  },
  {
   "cell_type": "code",
   "execution_count": 3,
   "outputs": [
    {
     "data": {
      "text/plain": "(nan, nan, nan)"
     },
     "execution_count": 3,
     "metadata": {},
     "output_type": "execute_result"
    }
   ],
   "source": [
    "vals2.sum(), vals2.min(), vals2.max()"
   ],
   "metadata": {
    "collapsed": false,
    "ExecuteTime": {
     "end_time": "2023-08-14T13:16:27.995006900Z",
     "start_time": "2023-08-14T13:16:27.918862800Z"
    }
   },
   "id": "901784679fbbc3bc"
  },
  {
   "cell_type": "code",
   "execution_count": 4,
   "outputs": [
    {
     "data": {
      "text/plain": "(8.0, 1.0, 4.0)"
     },
     "execution_count": 4,
     "metadata": {},
     "output_type": "execute_result"
    }
   ],
   "source": [
    "# 忽略缺失值的影响\n",
    "np.nansum(vals2), np.nanmin(vals2), np.nanmax(vals2)"
   ],
   "metadata": {
    "collapsed": false,
    "ExecuteTime": {
     "end_time": "2023-08-14T13:16:27.995006900Z",
     "start_time": "2023-08-14T13:16:27.932480800Z"
    }
   },
   "id": "f71b065f15eb8f07"
  },
  {
   "cell_type": "code",
   "execution_count": 5,
   "outputs": [
    {
     "name": "stdout",
     "output_type": "stream",
     "text": [
      "  group  value\n",
      "0     A      1\n",
      "1     A      2\n",
      "2     B      3\n",
      "3     B      4\n",
      "4     A      5\n",
      "5     B      6\n",
      "  group  value\n",
      "0     A      1\n",
      "1     B      3\n"
     ]
    }
   ],
   "source": [
    "\"\"\"\n",
    "分组取最小\n",
    "\n",
    "\"\"\"\n",
    "\n",
    "# 创建一个示例数据集  \n",
    "data = {\n",
    "    'group': ['A', 'A', 'B', 'B', 'A', 'B'],\n",
    "    'value': [1, 2, 3, 4, 5, 6]\n",
    "}\n",
    "\n",
    "df = pd.DataFrame(data)\n",
    "print(df)\n",
    "\n",
    "# 分组并按值排序，然后取每组的第一个行  \n",
    "result = df.sort_values('value').groupby('group').first().reset_index()\n",
    "\n",
    "print(result)"
   ],
   "metadata": {
    "collapsed": false,
    "ExecuteTime": {
     "end_time": "2023-08-14T13:16:27.995006900Z",
     "start_time": "2023-08-14T13:16:27.948108Z"
    }
   },
   "id": "e5b5a96ef076ea7"
  },
  {
   "cell_type": "markdown",
   "source": [
    "## 3.5.3 处理缺失值\n",
    "\n",
    "```\n",
    "isnull 创建一个布尔类型的掩码标签缺失值, 一个掩码数组\n",
    "\n",
    "notnull\n",
    "\n",
    "dropda  剔除缺失值的数据\n",
    "\n",
    "fillna: ffill和bfill \n",
    "\n",
    "```\n"
   ],
   "metadata": {
    "collapsed": false
   },
   "id": "cbf424cec850791d"
  },
  {
   "cell_type": "code",
   "execution_count": 6,
   "outputs": [],
   "source": [
    "data = pd.Series([1, np.nan, 'hello', None])"
   ],
   "metadata": {
    "collapsed": false,
    "ExecuteTime": {
     "end_time": "2023-08-14T13:16:27.995006900Z",
     "start_time": "2023-08-14T13:16:27.963734400Z"
    }
   },
   "id": "c9471936b26b9e61"
  },
  {
   "cell_type": "code",
   "execution_count": 7,
   "outputs": [
    {
     "data": {
      "text/plain": "0    False\n1     True\n2    False\n3     True\ndtype: bool"
     },
     "execution_count": 7,
     "metadata": {},
     "output_type": "execute_result"
    }
   ],
   "source": [
    "data.isnull()"
   ],
   "metadata": {
    "collapsed": false,
    "ExecuteTime": {
     "end_time": "2023-08-14T13:16:27.995006900Z",
     "start_time": "2023-08-14T13:16:27.979362Z"
    }
   },
   "id": "deb7c21b41690b42"
  },
  {
   "cell_type": "code",
   "execution_count": 8,
   "outputs": [
    {
     "data": {
      "text/plain": "0        1\n2    hello\ndtype: object"
     },
     "execution_count": 8,
     "metadata": {},
     "output_type": "execute_result"
    }
   ],
   "source": [
    "data[data.notnull()]"
   ],
   "metadata": {
    "collapsed": false,
    "ExecuteTime": {
     "end_time": "2023-08-14T13:16:28.116308700Z",
     "start_time": "2023-08-14T13:16:27.995006900Z"
    }
   },
   "id": "1e9acf2515625155"
  },
  {
   "cell_type": "code",
   "execution_count": 9,
   "outputs": [
    {
     "data": {
      "text/plain": "     0    1  2\n0  1.0  NaN  2\n1  2.0  3.0  5\n2  NaN  4.0  6",
      "text/html": "<div>\n<style scoped>\n    .dataframe tbody tr th:only-of-type {\n        vertical-align: middle;\n    }\n\n    .dataframe tbody tr th {\n        vertical-align: top;\n    }\n\n    .dataframe thead th {\n        text-align: right;\n    }\n</style>\n<table border=\"1\" class=\"dataframe\">\n  <thead>\n    <tr style=\"text-align: right;\">\n      <th></th>\n      <th>0</th>\n      <th>1</th>\n      <th>2</th>\n    </tr>\n  </thead>\n  <tbody>\n    <tr>\n      <th>0</th>\n      <td>1.0</td>\n      <td>NaN</td>\n      <td>2</td>\n    </tr>\n    <tr>\n      <th>1</th>\n      <td>2.0</td>\n      <td>3.0</td>\n      <td>5</td>\n    </tr>\n    <tr>\n      <th>2</th>\n      <td>NaN</td>\n      <td>4.0</td>\n      <td>6</td>\n    </tr>\n  </tbody>\n</table>\n</div>"
     },
     "execution_count": 9,
     "metadata": {},
     "output_type": "execute_result"
    }
   ],
   "source": [
    "df = pd.DataFrame([[1,      np.nan, 2],\n",
    "                   [2,      3,      5],\n",
    "                   [np.nan, 4,      6]])\n",
    "df"
   ],
   "metadata": {
    "collapsed": false,
    "ExecuteTime": {
     "end_time": "2023-08-14T13:16:28.131867100Z",
     "start_time": "2023-08-14T13:16:28.010612Z"
    }
   },
   "id": "cf1b8c54fea17902"
  },
  {
   "cell_type": "code",
   "execution_count": 10,
   "outputs": [
    {
     "data": {
      "text/plain": "     0    1  2\n1  2.0  3.0  5",
      "text/html": "<div>\n<style scoped>\n    .dataframe tbody tr th:only-of-type {\n        vertical-align: middle;\n    }\n\n    .dataframe tbody tr th {\n        vertical-align: top;\n    }\n\n    .dataframe thead th {\n        text-align: right;\n    }\n</style>\n<table border=\"1\" class=\"dataframe\">\n  <thead>\n    <tr style=\"text-align: right;\">\n      <th></th>\n      <th>0</th>\n      <th>1</th>\n      <th>2</th>\n    </tr>\n  </thead>\n  <tbody>\n    <tr>\n      <th>1</th>\n      <td>2.0</td>\n      <td>3.0</td>\n      <td>5</td>\n    </tr>\n  </tbody>\n</table>\n</div>"
     },
     "execution_count": 10,
     "metadata": {},
     "output_type": "execute_result"
    }
   ],
   "source": [
    "df.dropna()"
   ],
   "metadata": {
    "collapsed": false,
    "ExecuteTime": {
     "end_time": "2023-08-14T13:16:28.131867100Z",
     "start_time": "2023-08-14T13:16:28.026236200Z"
    }
   },
   "id": "919e5ac760a79b80"
  },
  {
   "cell_type": "code",
   "execution_count": 11,
   "outputs": [
    {
     "data": {
      "text/plain": "   2\n0  2\n1  5\n2  6",
      "text/html": "<div>\n<style scoped>\n    .dataframe tbody tr th:only-of-type {\n        vertical-align: middle;\n    }\n\n    .dataframe tbody tr th {\n        vertical-align: top;\n    }\n\n    .dataframe thead th {\n        text-align: right;\n    }\n</style>\n<table border=\"1\" class=\"dataframe\">\n  <thead>\n    <tr style=\"text-align: right;\">\n      <th></th>\n      <th>2</th>\n    </tr>\n  </thead>\n  <tbody>\n    <tr>\n      <th>0</th>\n      <td>2</td>\n    </tr>\n    <tr>\n      <th>1</th>\n      <td>5</td>\n    </tr>\n    <tr>\n      <th>2</th>\n      <td>6</td>\n    </tr>\n  </tbody>\n</table>\n</div>"
     },
     "execution_count": 11,
     "metadata": {},
     "output_type": "execute_result"
    }
   ],
   "source": [
    "# 设置不同的坐标轴剔除缺失值\n",
    "\n",
    "# df.dropna(axis=1)\n",
    "df.dropna(axis='columns')"
   ],
   "metadata": {
    "collapsed": false,
    "ExecuteTime": {
     "end_time": "2023-08-14T13:16:28.131867100Z",
     "start_time": "2023-08-14T13:16:28.041860900Z"
    }
   },
   "id": "e5d39345853129b7"
  },
  {
   "cell_type": "code",
   "execution_count": 12,
   "outputs": [
    {
     "name": "stdout",
     "output_type": "stream",
     "text": [
      "     0    1  2   3\n",
      "0  1.0  NaN  2 NaN\n",
      "1  2.0  3.0  5 NaN\n",
      "2  NaN  4.0  6 NaN\n"
     ]
    },
    {
     "data": {
      "text/plain": "     0    1  2\n0  1.0  NaN  2\n1  2.0  3.0  5\n2  NaN  4.0  6",
      "text/html": "<div>\n<style scoped>\n    .dataframe tbody tr th:only-of-type {\n        vertical-align: middle;\n    }\n\n    .dataframe tbody tr th {\n        vertical-align: top;\n    }\n\n    .dataframe thead th {\n        text-align: right;\n    }\n</style>\n<table border=\"1\" class=\"dataframe\">\n  <thead>\n    <tr style=\"text-align: right;\">\n      <th></th>\n      <th>0</th>\n      <th>1</th>\n      <th>2</th>\n    </tr>\n  </thead>\n  <tbody>\n    <tr>\n      <th>0</th>\n      <td>1.0</td>\n      <td>NaN</td>\n      <td>2</td>\n    </tr>\n    <tr>\n      <th>1</th>\n      <td>2.0</td>\n      <td>3.0</td>\n      <td>5</td>\n    </tr>\n    <tr>\n      <th>2</th>\n      <td>NaN</td>\n      <td>4.0</td>\n      <td>6</td>\n    </tr>\n  </tbody>\n</table>\n</div>"
     },
     "execution_count": 12,
     "metadata": {},
     "output_type": "execute_result"
    }
   ],
   "source": [
    "df[3] = np.nan\n",
    "print(df)\n",
    "\n",
    "df.dropna(axis='columns', how='all')"
   ],
   "metadata": {
    "collapsed": false,
    "ExecuteTime": {
     "end_time": "2023-08-14T13:16:28.131867100Z",
     "start_time": "2023-08-14T13:16:28.069350400Z"
    }
   },
   "id": "bdd51cb7f6f518d1"
  },
  {
   "cell_type": "code",
   "execution_count": 13,
   "outputs": [
    {
     "name": "stdout",
     "output_type": "stream",
     "text": [
      "a    1.0\n",
      "b    NaN\n",
      "c    2.0\n",
      "d    NaN\n",
      "e    3.0\n",
      "dtype: float64\n",
      "a    1.0\n",
      "b    0.0\n",
      "c    2.0\n",
      "d    0.0\n",
      "e    3.0\n",
      "dtype: float64\n",
      "a    1.0\n",
      "b    1.0\n",
      "c    2.0\n",
      "d    2.0\n",
      "e    3.0\n",
      "dtype: float64\n"
     ]
    }
   ],
   "source": [
    "data = pd.Series([1, np.nan, 2, None, 3], index=list('abcde'))\n",
    "print(data)\n",
    "print(data.fillna(0))\n",
    "print(data.fillna(method='ffill'))"
   ],
   "metadata": {
    "collapsed": false,
    "ExecuteTime": {
     "end_time": "2023-08-14T13:16:28.131867100Z",
     "start_time": "2023-08-14T13:16:28.084993Z"
    }
   },
   "id": "9ccbfe7578db2f24"
  },
  {
   "cell_type": "code",
   "execution_count": 13,
   "outputs": [],
   "source": [],
   "metadata": {
    "collapsed": false,
    "ExecuteTime": {
     "end_time": "2023-08-14T13:16:28.131867100Z",
     "start_time": "2023-08-14T13:16:28.100619900Z"
    }
   },
   "id": "d436f1b284efd25e"
  }
 ],
 "metadata": {
  "kernelspec": {
   "display_name": "Python 3",
   "language": "python",
   "name": "python3"
  },
  "language_info": {
   "codemirror_mode": {
    "name": "ipython",
    "version": 2
   },
   "file_extension": ".py",
   "mimetype": "text/x-python",
   "name": "python",
   "nbconvert_exporter": "python",
   "pygments_lexer": "ipython2",
   "version": "2.7.6"
  }
 },
 "nbformat": 4,
 "nbformat_minor": 5
}
