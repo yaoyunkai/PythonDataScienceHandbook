{
 "cells": [
  {
   "cell_type": "markdown",
   "source": [
    "# 2.8 数组的排序\n",
    "\n",
    "np.sort 就地排序数组\n",
    "\n",
    "np.argsort 返回的是原始数组排序好的索引值\n",
    "\n",
    "np的排序算法的一个有用的功能是通过axis参数，沿着多维数组的行或者列进行排序\n",
    "\n"
   ],
   "metadata": {
    "collapsed": false
   },
   "id": "32dfa8946d4bed22"
  },
  {
   "cell_type": "code",
   "execution_count": 1,
   "outputs": [
    {
     "name": "stdout",
     "output_type": "stream",
     "text": [
      "[1 0 3 2 4]\n"
     ]
    }
   ],
   "source": [
    "import numpy as np\n",
    "\n",
    "x = np.array([2, 1, 4, 3, 5])\n",
    "i = np.argsort(x)\n",
    "print(i)"
   ],
   "metadata": {
    "collapsed": false,
    "ExecuteTime": {
     "end_time": "2023-08-10T13:45:54.433645300Z",
     "start_time": "2023-08-10T13:45:54.316982Z"
    }
   },
   "id": "73b7dfed6b6132b1"
  },
  {
   "cell_type": "code",
   "execution_count": 2,
   "outputs": [
    {
     "name": "stdout",
     "output_type": "stream",
     "text": [
      "[1 2 3 4 5]\n"
     ]
    }
   ],
   "source": [
    "# 上面的索引数组可以用于fancy-index\n",
    "\n",
    "print(x[i])"
   ],
   "metadata": {
    "collapsed": false,
    "ExecuteTime": {
     "end_time": "2023-08-10T13:47:00.171386400Z",
     "start_time": "2023-08-10T13:47:00.110082400Z"
    }
   },
   "id": "b240f7a5e049c053"
  },
  {
   "cell_type": "code",
   "execution_count": 3,
   "outputs": [
    {
     "name": "stdout",
     "output_type": "stream",
     "text": [
      "[[6 3 7 4 6 9]\n",
      " [2 6 7 4 3 7]\n",
      " [7 2 5 4 1 7]\n",
      " [5 1 4 0 9 5]]\n"
     ]
    }
   ],
   "source": [
    "rand = np.random.RandomState(42)\n",
    "\n",
    "X = rand.randint(0, 10, (4, 6))\n",
    "print(X)"
   ],
   "metadata": {
    "collapsed": false,
    "ExecuteTime": {
     "end_time": "2023-08-10T13:51:07.841591700Z",
     "start_time": "2023-08-10T13:51:07.815134Z"
    }
   },
   "id": "2f0827e48a0723d8"
  },
  {
   "cell_type": "code",
   "execution_count": 4,
   "outputs": [
    {
     "data": {
      "text/plain": "array([[2, 1, 4, 0, 1, 5],\n       [5, 2, 5, 4, 3, 7],\n       [6, 3, 7, 4, 6, 7],\n       [7, 6, 7, 4, 9, 9]])"
     },
     "execution_count": 4,
     "metadata": {},
     "output_type": "execute_result"
    }
   ],
   "source": [
    "np.sort(X, axis=0)"
   ],
   "metadata": {
    "collapsed": false,
    "ExecuteTime": {
     "end_time": "2023-08-10T13:52:03.370487400Z",
     "start_time": "2023-08-10T13:52:03.350945400Z"
    }
   },
   "id": "fcd3d84b8dd246aa"
  },
  {
   "cell_type": "code",
   "execution_count": 5,
   "outputs": [
    {
     "data": {
      "text/plain": "array([[3, 4, 6, 6, 7, 9],\n       [2, 3, 4, 6, 7, 7],\n       [1, 2, 4, 5, 7, 7],\n       [0, 1, 4, 5, 5, 9]])"
     },
     "execution_count": 5,
     "metadata": {},
     "output_type": "execute_result"
    }
   ],
   "source": [
    "np.sort(X, axis=1)"
   ],
   "metadata": {
    "collapsed": false,
    "ExecuteTime": {
     "end_time": "2023-08-10T13:52:25.793974Z",
     "start_time": "2023-08-10T13:52:25.744227Z"
    }
   },
   "id": "242d9ab80c19d621"
  },
  {
   "cell_type": "markdown",
   "source": [
    "## 2.8.2 部分排序: 分隔\n",
    "\n",
    "np.partition, 将数组分隔为两个区间，两个元素都是任意排列的，只保证左边的满足第k小。"
   ],
   "metadata": {
    "collapsed": false
   },
   "id": "83e1b685f959fd66"
  },
  {
   "cell_type": "code",
   "execution_count": 6,
   "outputs": [
    {
     "data": {
      "text/plain": "array([2, 1, 3, 4, 6, 5, 7])"
     },
     "execution_count": 6,
     "metadata": {},
     "output_type": "execute_result"
    }
   ],
   "source": [
    "x = np.array([7, 2, 3, 1, 6, 5, 4])\n",
    "np.partition(x, 3)"
   ],
   "metadata": {
    "collapsed": false,
    "ExecuteTime": {
     "end_time": "2023-08-10T13:55:36.654089Z",
     "start_time": "2023-08-10T13:55:36.629262100Z"
    }
   },
   "id": "c61985b6fda67e32"
  },
  {
   "cell_type": "code",
   "execution_count": 7,
   "outputs": [
    {
     "data": {
      "text/plain": "array([[3, 4, 6, 7, 6, 9],\n       [2, 3, 4, 7, 6, 7],\n       [1, 2, 4, 5, 7, 7],\n       [0, 1, 4, 5, 9, 5]])"
     },
     "execution_count": 7,
     "metadata": {},
     "output_type": "execute_result"
    }
   ],
   "source": [
    "np.partition(X, 2, axis=1)"
   ],
   "metadata": {
    "collapsed": false,
    "ExecuteTime": {
     "end_time": "2023-08-10T13:55:55.992572700Z",
     "start_time": "2023-08-10T13:55:55.949250300Z"
    }
   },
   "id": "b2f68e653c2dc6f6"
  }
 ],
 "metadata": {
  "kernelspec": {
   "display_name": "Python 3",
   "language": "python",
   "name": "python3"
  },
  "language_info": {
   "codemirror_mode": {
    "name": "ipython",
    "version": 2
   },
   "file_extension": ".py",
   "mimetype": "text/x-python",
   "name": "python",
   "nbconvert_exporter": "python",
   "pygments_lexer": "ipython2",
   "version": "2.7.6"
  }
 },
 "nbformat": 4,
 "nbformat_minor": 5
}
