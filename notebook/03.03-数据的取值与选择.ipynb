{
 "cells": [
  {
   "cell_type": "markdown",
   "source": [
    "# 3.3 数据取值和选择\n",
    "\n",
    "可以将Series对象看做一个字典\n",
    "\n",
    "- 支持 contain 操作\n",
    "- 可以使用 keys, 也可以使用 items\n",
    "- 还支持 `data['e'] = 1.25`\n",
    "\n",
    "将Series看做一维数组\n",
    "\n",
    "注意显式索引和隐式索引的区别：当使用显式索引作为切片时，结果包含最后一个索引；而使用隐式索引作为切片时，结果不包含 最后一个索引\n",
    "\n",
    "隐式索引，说白了就是数字下标\n",
    "\n",
    "索引器, 他们不是Series对象的函数方法，而是切片接口的属性\n",
    "- loc  : 取值和切片都是显式的\n",
    "- iloc : 取值和切片都是隐式的\n",
    "- ix   : 前两种索引器的混合形式，在Series对象中等价于标准的python列表取值方式, 新版中 Series对象已经移除了\n",
    "\n"
   ],
   "metadata": {
    "collapsed": false
   },
   "id": "d695be7237ded85f"
  },
  {
   "cell_type": "code",
   "execution_count": 1,
   "outputs": [],
   "source": [
    "import pandas as pd\n"
   ],
   "metadata": {
    "collapsed": false,
    "ExecuteTime": {
     "end_time": "2023-08-14T12:30:18.661066700Z",
     "start_time": "2023-08-14T12:30:17.274265Z"
    }
   },
   "id": "b7f465180a9c4700"
  },
  {
   "cell_type": "code",
   "execution_count": 2,
   "outputs": [
    {
     "data": {
      "text/plain": "a    0.25\nb    0.50\nc    0.75\nd    1.00\ndtype: float64"
     },
     "execution_count": 2,
     "metadata": {},
     "output_type": "execute_result"
    }
   ],
   "source": [
    "data = pd.Series([0.25, 0.5, 0.75, 1.0],\n",
    "                 index=['a', 'b', 'c', 'd'])\n",
    "data"
   ],
   "metadata": {
    "collapsed": false,
    "ExecuteTime": {
     "end_time": "2023-08-14T12:30:18.676691600Z",
     "start_time": "2023-08-14T12:30:18.661066700Z"
    }
   },
   "id": "2c9890c7e5539f9c"
  },
  {
   "cell_type": "code",
   "execution_count": 3,
   "outputs": [
    {
     "name": "stdout",
     "output_type": "stream",
     "text": [
      "0.5\n",
      "True\n",
      "Index(['a', 'b', 'c', 'd'], dtype='object')\n",
      "[('a', 0.25), ('b', 0.5), ('c', 0.75), ('d', 1.0)]\n",
      "a    0.25\n",
      "b    0.50\n",
      "c    0.75\n",
      "d    1.00\n",
      "e    1.25\n",
      "dtype: float64\n"
     ]
    }
   ],
   "source": [
    "# 一些相关的取值操作\n",
    "\n",
    "print(data['b'])\n",
    "\n",
    "print('a' in data)\n",
    "# print(1.0 in data)\n",
    "print(data.keys())\n",
    "print(list(data.items()))\n",
    "# print(data.to_markdown())\n",
    "\n",
    "data['e'] = 1.25\n",
    "print(data)"
   ],
   "metadata": {
    "collapsed": false,
    "ExecuteTime": {
     "end_time": "2023-08-14T12:30:18.736215800Z",
     "start_time": "2023-08-14T12:30:18.676691600Z"
    }
   },
   "id": "e17b9dc6af6f6397"
  },
  {
   "cell_type": "code",
   "execution_count": 4,
   "outputs": [
    {
     "name": "stdout",
     "output_type": "stream",
     "text": [
      "a    0.25\n",
      "b    0.50\n",
      "c    0.75\n",
      "dtype: float64\n",
      "a    0.25\n",
      "b    0.50\n",
      "dtype: float64\n",
      "b    0.50\n",
      "c    0.75\n",
      "dtype: float64\n",
      "a    0.25\n",
      "c    0.75\n",
      "dtype: float64\n"
     ]
    }
   ],
   "source": [
    "# 索引，掩码，花哨的索引\n",
    "\n",
    "print(data['a': 'c'])\n",
    "\n",
    "# 将隐式整数索引作为切片\n",
    "print(data[0:2])\n",
    "\n",
    "# 掩码\n",
    "print(data[(data > 0.3) & (data < 0.8)])\n",
    "\n",
    "print(data[['a', 'c']])\n"
   ],
   "metadata": {
    "collapsed": false,
    "ExecuteTime": {
     "end_time": "2023-08-14T12:30:18.736215800Z",
     "start_time": "2023-08-14T12:30:18.692315Z"
    }
   },
   "id": "553783cba80c703b"
  },
  {
   "cell_type": "code",
   "execution_count": 5,
   "outputs": [
    {
     "data": {
      "text/plain": "1    a\n3    b\n5    c\ndtype: object"
     },
     "execution_count": 5,
     "metadata": {},
     "output_type": "execute_result"
    }
   ],
   "source": [
    "data = pd.Series(['a', 'b', 'c'], index=[1, 3, 5])\n",
    "data"
   ],
   "metadata": {
    "collapsed": false,
    "ExecuteTime": {
     "end_time": "2023-08-14T12:30:18.736215800Z",
     "start_time": "2023-08-14T12:30:18.705571700Z"
    }
   },
   "id": "875e5c1ec2ebeea7"
  },
  {
   "cell_type": "code",
   "execution_count": 6,
   "outputs": [
    {
     "name": "stdout",
     "output_type": "stream",
     "text": [
      "a\n",
      "3    b\n",
      "5    c\n",
      "dtype: object\n"
     ]
    }
   ],
   "source": [
    "# 取值操作是显式索引\n",
    "print(data[1])\n",
    "\n",
    "# 切片操作是隐式索引\n",
    "print(data[1:3])"
   ],
   "metadata": {
    "collapsed": false,
    "ExecuteTime": {
     "end_time": "2023-08-14T12:30:18.736215800Z",
     "start_time": "2023-08-14T12:30:18.720580100Z"
    }
   },
   "id": "a8a8bc8277104f90"
  },
  {
   "cell_type": "code",
   "execution_count": 7,
   "outputs": [
    {
     "name": "stdout",
     "output_type": "stream",
     "text": [
      "a\n",
      "1    a\n",
      "3    b\n",
      "dtype: object\n",
      "b\n",
      "3    b\n",
      "5    c\n",
      "dtype: object\n"
     ]
    }
   ],
   "source": [
    "print(data.loc[1])\n",
    "print(data.loc[1:4])\n",
    "\n",
    "print(data.iloc[1])\n",
    "print(data.iloc[1:4])\n",
    "\n",
    "# print(data.ix[1])\n",
    "# print(data.ix[1:3])"
   ],
   "metadata": {
    "collapsed": false,
    "ExecuteTime": {
     "end_time": "2023-08-14T12:30:18.751839100Z",
     "start_time": "2023-08-14T12:30:18.736215800Z"
    }
   },
   "id": "ca18e4eaca72b39b"
  },
  {
   "cell_type": "markdown",
   "source": [
    "## DataFrame 数据选择方法\n",
    "\n",
    "把DataFrame当作一个由若干Series对象构成的字典, 可使用 属性形式与字典形式的访问\n",
    "\n",
    "列名不是纯字符串，或者列名与dataframe的方法同名，就不能用属性索引，还应该避免对用属性形式选择的列直接赋值。\n",
    "\n",
    "还可以将df看作为二维数组\n",
    "\n",
    "dataframe.values\n",
    "\n",
    "行列转置: dataframe.T\n",
    "\n",
    "任何处理Numpy形式数据的方法都可以用于这些索引器。\n",
    "\n"
   ],
   "metadata": {
    "collapsed": false
   },
   "id": "51eadf1e88bfc670"
  },
  {
   "cell_type": "code",
   "execution_count": 8,
   "outputs": [
    {
     "data": {
      "text/plain": "              area       pop\nCalifornia  423967  38332521\nTexas       695662  26448193\nNew York    141297  19651127\nFlorida     170312  19552860\nIllinois    149995  12882135",
      "text/html": "<div>\n<style scoped>\n    .dataframe tbody tr th:only-of-type {\n        vertical-align: middle;\n    }\n\n    .dataframe tbody tr th {\n        vertical-align: top;\n    }\n\n    .dataframe thead th {\n        text-align: right;\n    }\n</style>\n<table border=\"1\" class=\"dataframe\">\n  <thead>\n    <tr style=\"text-align: right;\">\n      <th></th>\n      <th>area</th>\n      <th>pop</th>\n    </tr>\n  </thead>\n  <tbody>\n    <tr>\n      <th>California</th>\n      <td>423967</td>\n      <td>38332521</td>\n    </tr>\n    <tr>\n      <th>Texas</th>\n      <td>695662</td>\n      <td>26448193</td>\n    </tr>\n    <tr>\n      <th>New York</th>\n      <td>141297</td>\n      <td>19651127</td>\n    </tr>\n    <tr>\n      <th>Florida</th>\n      <td>170312</td>\n      <td>19552860</td>\n    </tr>\n    <tr>\n      <th>Illinois</th>\n      <td>149995</td>\n      <td>12882135</td>\n    </tr>\n  </tbody>\n</table>\n</div>"
     },
     "execution_count": 8,
     "metadata": {},
     "output_type": "execute_result"
    }
   ],
   "source": [
    "area = pd.Series({'California': 423967, 'Texas': 695662,\n",
    "                  'New York': 141297, 'Florida': 170312,\n",
    "                  'Illinois': 149995})\n",
    "pop = pd.Series({'California': 38332521, 'Texas': 26448193,\n",
    "                 'New York': 19651127, 'Florida': 19552860,\n",
    "                 'Illinois': 12882135})\n",
    "data = pd.DataFrame({'area': area, 'pop': pop})\n",
    "data"
   ],
   "metadata": {
    "collapsed": false,
    "ExecuteTime": {
     "end_time": "2023-08-14T12:30:18.839710800Z",
     "start_time": "2023-08-14T12:30:18.751839100Z"
    }
   },
   "id": "d12bd1e58cb5a97d"
  },
  {
   "cell_type": "code",
   "execution_count": 9,
   "outputs": [
    {
     "name": "stdout",
     "output_type": "stream",
     "text": [
      "California    423967\n",
      "Texas         695662\n",
      "New York      141297\n",
      "Florida       170312\n",
      "Illinois      149995\n",
      "Name: area, dtype: int64\n",
      "California    423967\n",
      "Texas         695662\n",
      "New York      141297\n",
      "Florida       170312\n",
      "Illinois      149995\n",
      "Name: area, dtype: int64\n"
     ]
    }
   ],
   "source": [
    "print(data['area'])\n",
    "print(data.area)"
   ],
   "metadata": {
    "collapsed": false,
    "ExecuteTime": {
     "end_time": "2023-08-14T12:30:18.870959500Z",
     "start_time": "2023-08-14T12:30:18.767510700Z"
    }
   },
   "id": "1b8d474323c2ac04"
  },
  {
   "cell_type": "code",
   "execution_count": 10,
   "outputs": [
    {
     "data": {
      "text/plain": "              area       pop     density\nCalifornia  423967  38332521   90.413926\nTexas       695662  26448193   38.018740\nNew York    141297  19651127  139.076746\nFlorida     170312  19552860  114.806121\nIllinois    149995  12882135   85.883763",
      "text/html": "<div>\n<style scoped>\n    .dataframe tbody tr th:only-of-type {\n        vertical-align: middle;\n    }\n\n    .dataframe tbody tr th {\n        vertical-align: top;\n    }\n\n    .dataframe thead th {\n        text-align: right;\n    }\n</style>\n<table border=\"1\" class=\"dataframe\">\n  <thead>\n    <tr style=\"text-align: right;\">\n      <th></th>\n      <th>area</th>\n      <th>pop</th>\n      <th>density</th>\n    </tr>\n  </thead>\n  <tbody>\n    <tr>\n      <th>California</th>\n      <td>423967</td>\n      <td>38332521</td>\n      <td>90.413926</td>\n    </tr>\n    <tr>\n      <th>Texas</th>\n      <td>695662</td>\n      <td>26448193</td>\n      <td>38.018740</td>\n    </tr>\n    <tr>\n      <th>New York</th>\n      <td>141297</td>\n      <td>19651127</td>\n      <td>139.076746</td>\n    </tr>\n    <tr>\n      <th>Florida</th>\n      <td>170312</td>\n      <td>19552860</td>\n      <td>114.806121</td>\n    </tr>\n    <tr>\n      <th>Illinois</th>\n      <td>149995</td>\n      <td>12882135</td>\n      <td>85.883763</td>\n    </tr>\n  </tbody>\n</table>\n</div>"
     },
     "execution_count": 10,
     "metadata": {},
     "output_type": "execute_result"
    }
   ],
   "source": [
    "data['density'] = data['pop'] / data['area']\n",
    "data"
   ],
   "metadata": {
    "collapsed": false,
    "ExecuteTime": {
     "end_time": "2023-08-14T12:30:18.870959500Z",
     "start_time": "2023-08-14T12:30:18.792806700Z"
    }
   },
   "id": "c1fe24611b1af441"
  },
  {
   "cell_type": "code",
   "execution_count": 11,
   "outputs": [
    {
     "name": "stdout",
     "output_type": "stream",
     "text": [
      "[[4.23967000e+05 3.83325210e+07 9.04139261e+01]\n",
      " [6.95662000e+05 2.64481930e+07 3.80187404e+01]\n",
      " [1.41297000e+05 1.96511270e+07 1.39076746e+02]\n",
      " [1.70312000e+05 1.95528600e+07 1.14806121e+02]\n",
      " [1.49995000e+05 1.28821350e+07 8.58837628e+01]]\n",
      "           California         Texas      New York       Florida      Illinois\n",
      "area     4.239670e+05  6.956620e+05  1.412970e+05  1.703120e+05  1.499950e+05\n",
      "pop      3.833252e+07  2.644819e+07  1.965113e+07  1.955286e+07  1.288214e+07\n",
      "density  9.041393e+01  3.801874e+01  1.390767e+02  1.148061e+02  8.588376e+01\n",
      "values type is <class 'numpy.ndarray'>\n",
      "[4.23967000e+05 3.83325210e+07 9.04139261e+01]\n"
     ]
    }
   ],
   "source": [
    "# 二维数组\n",
    "\n",
    "print(data.values)\n",
    "\n",
    "print(data.T)\n",
    "\n",
    "print(f'values type is {type(data.values)}')\n",
    "\n",
    "print(data.values[0])"
   ],
   "metadata": {
    "collapsed": false,
    "ExecuteTime": {
     "end_time": "2023-08-14T12:30:18.902216500Z",
     "start_time": "2023-08-14T12:30:18.808448900Z"
    }
   },
   "id": "95b3be5c78124446"
  },
  {
   "cell_type": "code",
   "execution_count": 12,
   "outputs": [
    {
     "name": "stdout",
     "output_type": "stream",
     "text": [
      "              area       pop\n",
      "California  423967  38332521\n",
      "Texas       695662  26448193\n",
      "New York    141297  19651127\n",
      "              area       pop\n",
      "California  423967  38332521\n",
      "Texas       695662  26448193\n",
      "New York    141297  19651127\n",
      "Florida     170312  19552860\n",
      "Illinois    149995  12882135\n"
     ]
    }
   ],
   "source": [
    "print(data.iloc[:3, :2])  # 下标索引\n",
    "\n",
    "print(data.loc[: 'Illinois', : 'pop'])"
   ],
   "metadata": {
    "collapsed": false,
    "ExecuteTime": {
     "end_time": "2023-08-14T12:30:18.902216500Z",
     "start_time": "2023-08-14T12:30:18.824072500Z"
    }
   },
   "id": "e406fe2e7a85f881"
  },
  {
   "cell_type": "code",
   "execution_count": 13,
   "outputs": [
    {
     "data": {
      "text/plain": "               pop     density\nNew York  19651127  139.076746\nFlorida   19552860  114.806121",
      "text/html": "<div>\n<style scoped>\n    .dataframe tbody tr th:only-of-type {\n        vertical-align: middle;\n    }\n\n    .dataframe tbody tr th {\n        vertical-align: top;\n    }\n\n    .dataframe thead th {\n        text-align: right;\n    }\n</style>\n<table border=\"1\" class=\"dataframe\">\n  <thead>\n    <tr style=\"text-align: right;\">\n      <th></th>\n      <th>pop</th>\n      <th>density</th>\n    </tr>\n  </thead>\n  <tbody>\n    <tr>\n      <th>New York</th>\n      <td>19651127</td>\n      <td>139.076746</td>\n    </tr>\n    <tr>\n      <th>Florida</th>\n      <td>19552860</td>\n      <td>114.806121</td>\n    </tr>\n  </tbody>\n</table>\n</div>"
     },
     "execution_count": 13,
     "metadata": {},
     "output_type": "execute_result"
    }
   ],
   "source": [
    "data.loc[data.density > 100, ['pop', 'density']]"
   ],
   "metadata": {
    "collapsed": false,
    "ExecuteTime": {
     "end_time": "2023-08-14T12:30:18.917824300Z",
     "start_time": "2023-08-14T12:30:18.839710800Z"
    }
   },
   "id": "c9a658ea160386b7"
  },
  {
   "cell_type": "code",
   "execution_count": 14,
   "outputs": [
    {
     "name": "stdout",
     "output_type": "stream",
     "text": [
      "            area       pop     density\n",
      "Florida   170312  19552860  114.806121\n",
      "Illinois  149995  12882135   85.883763\n",
      "            area       pop     density\n",
      "Texas     695662  26448193   38.018740\n",
      "New York  141297  19651127  139.076746\n",
      "            area       pop     density\n",
      "New York  141297  19651127  139.076746\n",
      "Florida   170312  19552860  114.806121\n"
     ]
    }
   ],
   "source": [
    "print(data['Florida':'Illinois'])\n",
    "\n",
    "print(data[1:3])\n",
    "\n",
    "print(data[data.density > 100])"
   ],
   "metadata": {
    "collapsed": false,
    "ExecuteTime": {
     "end_time": "2023-08-14T12:30:19.011588100Z",
     "start_time": "2023-08-14T12:30:18.855326300Z"
    }
   },
   "id": "48a498d56a39bf6a"
  }
 ],
 "metadata": {
  "kernelspec": {
   "display_name": "Python 3",
   "language": "python",
   "name": "python3"
  },
  "language_info": {
   "codemirror_mode": {
    "name": "ipython",
    "version": 2
   },
   "file_extension": ".py",
   "mimetype": "text/x-python",
   "name": "python",
   "nbconvert_exporter": "python",
   "pygments_lexer": "ipython2",
   "version": "2.7.6"
  }
 },
 "nbformat": 4,
 "nbformat_minor": 5
}
