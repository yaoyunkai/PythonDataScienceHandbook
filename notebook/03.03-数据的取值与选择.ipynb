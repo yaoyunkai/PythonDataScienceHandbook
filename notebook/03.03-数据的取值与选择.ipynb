{
 "cells": [
  {
   "cell_type": "markdown",
   "source": [
    "# 3.3 数据取值和选择\n",
    "\n",
    "可以将Series对象看做一个字典\n",
    "\n",
    "- 支持 contain 操作\n",
    "- 可以使用 keys, 也可以使用 items\n",
    "- 还支持 `data['e'] = 1.25`\n",
    "\n",
    "将Series看做一维数组\n",
    "\n",
    "注意显式索引和隐式索引的区别：当使用显式索引作为切片时，结果包含最后一个索引；而使用隐式索引作为切片时，结果不包含 最后一个索引\n",
    "\n",
    "隐式索引，说白了就是数字下标\n",
    "\n",
    "索引器, 他们不是Series对象的函数方法，而是切片接口的属性\n",
    "- loc  : 取值和切片都是显式的\n",
    "- iloc : 取值和切片都是隐式的\n",
    "- ix   : 前两种索引器的混合形式，在Series对象中等价于标准的python列表取值方式, 新版中 Series对象已经移除了\n",
    "\n"
   ],
   "metadata": {
    "collapsed": false
   },
   "id": "d695be7237ded85f"
  },
  {
   "cell_type": "code",
   "execution_count": 1,
   "outputs": [],
   "source": [
    "import pandas as pd\n"
   ],
   "metadata": {
    "collapsed": false,
    "ExecuteTime": {
     "end_time": "2023-08-13T15:08:47.750978400Z",
     "start_time": "2023-08-13T15:08:47.260555Z"
    }
   },
   "id": "b7f465180a9c4700"
  },
  {
   "cell_type": "code",
   "execution_count": 2,
   "outputs": [
    {
     "data": {
      "text/plain": "a    0.25\nb    0.50\nc    0.75\nd    1.00\ndtype: float64"
     },
     "execution_count": 2,
     "metadata": {},
     "output_type": "execute_result"
    }
   ],
   "source": [
    "data = pd.Series([0.25, 0.5, 0.75, 1.0],\n",
    "                 index=['a', 'b', 'c', 'd'])\n",
    "data"
   ],
   "metadata": {
    "collapsed": false,
    "ExecuteTime": {
     "end_time": "2023-08-13T15:08:47.766602Z",
     "start_time": "2023-08-13T15:08:47.750978400Z"
    }
   },
   "id": "2c9890c7e5539f9c"
  },
  {
   "cell_type": "code",
   "execution_count": 3,
   "outputs": [
    {
     "name": "stdout",
     "output_type": "stream",
     "text": [
      "0.5\n",
      "True\n",
      "Index(['a', 'b', 'c', 'd'], dtype='object')\n",
      "[('a', 0.25), ('b', 0.5), ('c', 0.75), ('d', 1.0)]\n",
      "a    0.25\n",
      "b    0.50\n",
      "c    0.75\n",
      "d    1.00\n",
      "e    1.25\n",
      "dtype: float64\n"
     ]
    }
   ],
   "source": [
    "# 一些相关的取值操作\n",
    "\n",
    "print(data['b'])\n",
    "\n",
    "print('a' in data)\n",
    "# print(1.0 in data)\n",
    "print(data.keys())\n",
    "print(list(data.items()))\n",
    "# print(data.to_markdown())\n",
    "\n",
    "data['e'] = 1.25\n",
    "print(data)"
   ],
   "metadata": {
    "collapsed": false,
    "ExecuteTime": {
     "end_time": "2023-08-13T15:08:47.793667Z",
     "start_time": "2023-08-13T15:08:47.766602Z"
    }
   },
   "id": "e17b9dc6af6f6397"
  },
  {
   "cell_type": "code",
   "execution_count": 4,
   "outputs": [
    {
     "name": "stdout",
     "output_type": "stream",
     "text": [
      "a    0.25\n",
      "b    0.50\n",
      "c    0.75\n",
      "dtype: float64\n",
      "a    0.25\n",
      "b    0.50\n",
      "dtype: float64\n",
      "b    0.50\n",
      "c    0.75\n",
      "dtype: float64\n",
      "a    0.25\n",
      "c    0.75\n",
      "dtype: float64\n"
     ]
    }
   ],
   "source": [
    "# 索引，掩码，花哨的索引\n",
    "\n",
    "print(data['a': 'c'])\n",
    "\n",
    "# 将隐式整数索引作为切片\n",
    "print(data[0:2])\n",
    "\n",
    "# 掩码\n",
    "print(data[(data > 0.3) & (data < 0.8)])\n",
    "\n",
    "print(data[['a', 'c']])\n"
   ],
   "metadata": {
    "collapsed": false,
    "ExecuteTime": {
     "end_time": "2023-08-13T15:08:47.840572700Z",
     "start_time": "2023-08-13T15:08:47.782228Z"
    }
   },
   "id": "553783cba80c703b"
  },
  {
   "cell_type": "code",
   "execution_count": 5,
   "outputs": [
    {
     "data": {
      "text/plain": "1    a\n3    b\n5    c\ndtype: object"
     },
     "execution_count": 5,
     "metadata": {},
     "output_type": "execute_result"
    }
   ],
   "source": [
    "data = pd.Series(['a', 'b', 'c'], index=[1, 3, 5])\n",
    "data"
   ],
   "metadata": {
    "collapsed": false,
    "ExecuteTime": {
     "end_time": "2023-08-13T15:08:47.840572700Z",
     "start_time": "2023-08-13T15:08:47.809309600Z"
    }
   },
   "id": "875e5c1ec2ebeea7"
  },
  {
   "cell_type": "code",
   "execution_count": 7,
   "outputs": [
    {
     "name": "stdout",
     "output_type": "stream",
     "text": [
      "a\n",
      "3    b\n",
      "5    c\n",
      "dtype: object\n"
     ]
    }
   ],
   "source": [
    "# 取值操作是显式索引\n",
    "print(data[1])\n",
    "\n",
    "# 切片操作是隐式索引\n",
    "print(data[1:3])"
   ],
   "metadata": {
    "collapsed": false,
    "ExecuteTime": {
     "end_time": "2023-08-13T15:09:15.157619900Z",
     "start_time": "2023-08-13T15:09:15.126369700Z"
    }
   },
   "id": "a8a8bc8277104f90"
  },
  {
   "cell_type": "code",
   "execution_count": 15,
   "outputs": [
    {
     "name": "stdout",
     "output_type": "stream",
     "text": [
      "a\n",
      "1    a\n",
      "3    b\n",
      "dtype: object\n",
      "b\n",
      "3    b\n",
      "5    c\n",
      "dtype: object\n"
     ]
    }
   ],
   "source": [
    "print(data.loc[1])\n",
    "print(data.loc[1:4])\n",
    "\n",
    "print(data.iloc[1])\n",
    "print(data.iloc[1:4])\n",
    "\n",
    "# print(data.ix[1])\n",
    "# print(data.ix[1:3])"
   ],
   "metadata": {
    "collapsed": false,
    "ExecuteTime": {
     "end_time": "2023-08-13T15:14:12.835165600Z",
     "start_time": "2023-08-13T15:14:12.819533500Z"
    }
   },
   "id": "ca18e4eaca72b39b"
  },
  {
   "cell_type": "code",
   "execution_count": null,
   "outputs": [],
   "source": [],
   "metadata": {
    "collapsed": false
   },
   "id": "8d565c4285a2fcb2"
  }
 ],
 "metadata": {
  "kernelspec": {
   "display_name": "Python 3",
   "language": "python",
   "name": "python3"
  },
  "language_info": {
   "codemirror_mode": {
    "name": "ipython",
    "version": 2
   },
   "file_extension": ".py",
   "mimetype": "text/x-python",
   "name": "python",
   "nbconvert_exporter": "python",
   "pygments_lexer": "ipython2",
   "version": "2.7.6"
  }
 },
 "nbformat": 4,
 "nbformat_minor": 5
}
