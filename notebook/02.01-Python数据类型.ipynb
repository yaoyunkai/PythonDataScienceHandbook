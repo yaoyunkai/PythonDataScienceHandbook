{
 "cells": [
  {
   "cell_type": "markdown",
   "source": [
    "# python中的数据类型\n",
    "\n",
    "python中的整形是什么: PyLongObject\n",
    "\n",
    "python中的列表是什么: PyVarObject\n",
    "\n",
    "python中固定类型的数组: array.array\n",
    "\n",
    "struct module的用法\n",
    "\n",
    "----\n",
    "\n",
    "## 创建 numpy 数组的方式\n",
    "\n",
    "```\n",
    "1. 从python列表\n",
    "np.array([1, 2, 3, 4, 5])\n",
    "\n",
    "类型不匹配，向上取整，dtype指定数据类型\n",
    "np.array([1, 2, 3, 4], dtype='float32')\n",
    "\n",
    "创建多维数组\n",
    "np.array([range(i, i + 3) for i in [2, 4, 6]])\n",
    "\n",
    "2. 从头创建数组\n",
    "\n",
    "# 用某个值填充整个array\n",
    "np.zeros(10, dtype=int)\n",
    "\n",
    "np.ones((3, 5), dtype=np.float64)\n",
    "\n",
    "np.full((3,5), 3.14, dtype='float64')\n",
    "\n",
    "# 线性array\n",
    "np.arange(0, 20, 2)\n",
    "\n",
    "np.linspace(0, 1, 7)\n",
    "\n",
    "# 随机\n",
    "np.random.random([3, 3])\n",
    "\n",
    "# 正态分布 \n",
    "# 平均值, 标准值, size\n",
    "np.random.normal(170, 5, (100, 1))\n",
    "\n",
    "# 随机整数 [0, 10)\n",
    "np.random.randint(0, 10, (3, 5))\n",
    "\n",
    "# TODO 单位矩阵是什么\n",
    "np.eye(3)\n",
    "\n",
    "# 未初始化的数组\n",
    "np.empty(3)\n",
    "\n",
    "\n",
    "```\n",
    "\n",
    "## Numpy的标准数据类型\n",
    "\n",
    "| Data type\t     | Description                                                                               |\n",
    "|----------------|-------------------------------------------------------------------------------------------|\n",
    "| ``bool_``      | Boolean (True or False) stored as a byte                                                  |\n",
    "| ``int_``       | Default integer type (same as C ``long``; normally either ``int64`` or ``int32``)         | \n",
    "| ``intc``       | Identical to C ``int`` (normally ``int32`` or ``int64``)                                  | \n",
    "| ``intp``       | Integer used for indexing (same as C ``ssize_t``; normally either ``int32`` or ``int64``) | \n",
    "| ``int8``       | Byte (-128 to 127)                                                                        | \n",
    "| ``int16``      | Integer (-32768 to 32767)                                                                 |\n",
    "| ``int32``      | Integer (-2147483648 to 2147483647)                                                       |\n",
    "| ``int64``      | Integer (-9223372036854775808 to 9223372036854775807)                                     | \n",
    "| ``uint8``      | Unsigned integer (0 to 255)                                                               | \n",
    "| ``uint16``     | Unsigned integer (0 to 65535)                                                             | \n",
    "| ``uint32``     | Unsigned integer (0 to 4294967295)                                                        | \n",
    "| ``uint64``     | Unsigned integer (0 to 18446744073709551615)                                              | \n",
    "| ``float_``     | Shorthand for ``float64``.                                                                | \n",
    "| ``float16``    | Half precision float: sign bit, 5 bits exponent, 10 bits mantissa                         | \n",
    "| ``float32``    | Single precision float: sign bit, 8 bits exponent, 23 bits mantissa                       | \n",
    "| ``float64``    | Double precision float: sign bit, 11 bits exponent, 52 bits mantissa                      | \n",
    "| ``complex_``   | Shorthand for ``complex128``.                                                             | \n",
    "| ``complex64``  | Complex number, represented by two 32-bit floats                                          | \n",
    "| ``complex128`` | Complex number, represented by two 64-bit floats                                          | \n",
    "\n"
   ],
   "metadata": {
    "collapsed": false
   }
  },
  {
   "cell_type": "code",
   "execution_count": 3,
   "outputs": [
    {
     "data": {
      "text/plain": "array('i', [0, 1, 2, 3, 4, 5, 6, 7, 8, 9])"
     },
     "execution_count": 3,
     "metadata": {},
     "output_type": "execute_result"
    }
   ],
   "source": [
    "import array\n",
    "\n",
    "L = list(range(10))\n",
    "A = array.array('i', L)\n",
    "A\n"
   ],
   "metadata": {
    "collapsed": false,
    "ExecuteTime": {
     "end_time": "2023-07-18T14:20:40.472433800Z",
     "start_time": "2023-07-18T14:20:40.462997400Z"
    }
   }
  },
  {
   "cell_type": "code",
   "execution_count": 6,
   "outputs": [
    {
     "data": {
      "text/plain": "array([[2, 3, 4],\n       [4, 5, 6],\n       [6, 7, 8]])"
     },
     "execution_count": 6,
     "metadata": {},
     "output_type": "execute_result"
    }
   ],
   "source": [
    "import numpy as np\n",
    "\n",
    "# np.__version__\n",
    "\n",
    "np.array([1, 2, 3, 4, 5])\n",
    "\n",
    "np.array([1, 2, 3, 4], dtype='float32')\n",
    "\n",
    "np.array([range(i, i + 3) for i in [2, 4, 6]])"
   ],
   "metadata": {
    "collapsed": false,
    "ExecuteTime": {
     "end_time": "2023-07-18T14:28:43.980378500Z",
     "start_time": "2023-07-18T14:28:43.969180900Z"
    }
   }
  },
  {
   "cell_type": "code",
   "execution_count": 28,
   "outputs": [
    {
     "data": {
      "text/plain": "array([1., 1., 1.])"
     },
     "execution_count": 28,
     "metadata": {},
     "output_type": "execute_result"
    }
   ],
   "source": [
    "\n",
    "# 用某个值填充整个array\n",
    "np.zeros(10, dtype=int)\n",
    "\n",
    "np.ones((3, 5), dtype=np.float64)\n",
    "\n",
    "np.full((3,5), 3.14, dtype='float64')\n",
    "\n",
    "# 线性array\n",
    "np.arange(0, 20, 2)\n",
    "\n",
    "np.linspace(0, 1, 7)\n",
    "\n",
    "# 随机\n",
    "np.random.random([3, 3])\n",
    "\n",
    "# 正态分布 \n",
    "# 平均值, 标准值, size\n",
    "np.random.normal(170, 5, (100, 1))\n",
    "\n",
    "# 随机整数 [0, 10)\n",
    "np.random.randint(0, 10, (3, 5))\n",
    "\n",
    "# TODO 单位矩阵是什么\n",
    "np.eye(3)\n",
    "\n",
    "# 未初始化的数组\n",
    "np.empty(3)"
   ],
   "metadata": {
    "collapsed": false,
    "ExecuteTime": {
     "end_time": "2023-07-18T14:46:34.947557800Z",
     "start_time": "2023-07-18T14:46:34.915737Z"
    }
   }
  }
 ],
 "metadata": {
  "kernelspec": {
   "display_name": "Python 3",
   "language": "python",
   "name": "python3"
  },
  "language_info": {
   "codemirror_mode": {
    "name": "ipython",
    "version": 2
   },
   "file_extension": ".py",
   "mimetype": "text/x-python",
   "name": "python",
   "nbconvert_exporter": "python",
   "pygments_lexer": "ipython2",
   "version": "2.7.6"
  }
 },
 "nbformat": 4,
 "nbformat_minor": 0
}
