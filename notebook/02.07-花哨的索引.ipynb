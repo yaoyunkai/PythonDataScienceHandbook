{
 "cells": [
  {
   "cell_type": "markdown",
   "source": [
    "# 2.7 花哨的索引\n"
   ],
   "metadata": {
    "collapsed": false
   },
   "id": "773a55d505b7e66f"
  },
  {
   "cell_type": "code",
   "execution_count": 1,
   "outputs": [
    {
     "name": "stdout",
     "output_type": "stream",
     "text": [
      "[51 92 14 71 60 20 82 86 74 74]\n"
     ]
    }
   ],
   "source": [
    "import numpy as np\n",
    "\n",
    "rand = np.random.RandomState(42)\n",
    "\n",
    "x = rand.randint(100, size=10)\n",
    "\n",
    "print(x)"
   ],
   "metadata": {
    "collapsed": false,
    "ExecuteTime": {
     "end_time": "2023-08-10T13:42:19.435919900Z",
     "start_time": "2023-08-10T13:42:19.307628700Z"
    }
   },
   "id": "19b461a4f689a38d"
  },
  {
   "cell_type": "code",
   "execution_count": 2,
   "outputs": [
    {
     "name": "stdout",
     "output_type": "stream",
     "text": [
      "[71, 86, 14]\n"
     ]
    }
   ],
   "source": [
    "# 假如要获取三个不同的元素，可以通过以下方式\n",
    "\n",
    "print([x[3], x[7], x[2]])"
   ],
   "metadata": {
    "collapsed": false,
    "ExecuteTime": {
     "end_time": "2023-08-10T13:42:19.553592Z",
     "start_time": "2023-08-10T13:42:19.328493300Z"
    }
   },
   "id": "fd665fa685a52fee"
  },
  {
   "cell_type": "code",
   "execution_count": 3,
   "outputs": [
    {
     "name": "stdout",
     "output_type": "stream",
     "text": [
      "[71 86 60]\n"
     ]
    }
   ],
   "source": [
    "# 通过传递一个索引的单个列表或者数组来获得同样的结果\n",
    "ind = [3, 7, 4]\n",
    "print(x[ind])"
   ],
   "metadata": {
    "collapsed": false,
    "ExecuteTime": {
     "end_time": "2023-08-10T13:42:19.616364100Z",
     "start_time": "2023-08-10T13:42:19.343048400Z"
    }
   },
   "id": "a924bb067dc1dbfd"
  },
  {
   "cell_type": "code",
   "execution_count": 4,
   "outputs": [
    {
     "name": "stdout",
     "output_type": "stream",
     "text": [
      "[[71 86]\n",
      " [60 20]]\n"
     ]
    }
   ],
   "source": [
    "# 利用花哨的索引，结果形状与索引数组的形状一致\n",
    "\n",
    "ind = np.array([[3, 7], [4, 5]])\n",
    "\n",
    "print(x[ind])"
   ],
   "metadata": {
    "collapsed": false,
    "ExecuteTime": {
     "end_time": "2023-08-10T13:42:19.675015700Z",
     "start_time": "2023-08-10T13:42:19.359161100Z"
    }
   },
   "id": "e4aade3ce5782a27"
  },
  {
   "cell_type": "code",
   "execution_count": 5,
   "outputs": [
    {
     "name": "stdout",
     "output_type": "stream",
     "text": [
      "[[ 0  1  2  3]\n",
      " [ 4  5  6  7]\n",
      " [ 8  9 10 11]]\n",
      "[ 2  5 11]\n"
     ]
    }
   ],
   "source": [
    "X = np.arange(12).reshape((3, 4))\n",
    "print(X)\n",
    "\n",
    "row = np.array([0, 1, 2])\n",
    "col = np.array([2, 1, 3])\n",
    "\n",
    "print(X[row, col])"
   ],
   "metadata": {
    "collapsed": false,
    "ExecuteTime": {
     "start_time": "2023-08-10T15:09:16.512743700Z"
    }
   },
   "id": "bf440641fc7c2ffa"
  },
  {
   "cell_type": "code",
   "execution_count": 6,
   "outputs": [
    {
     "name": "stdout",
     "output_type": "stream",
     "text": [
      "[[ 2  1  3]\n",
      " [ 6  5  7]\n",
      " [10  9 11]]\n"
     ]
    }
   ],
   "source": [
    "\"\"\"\n",
    "这个花哨的索引会变成:\n",
    "\n",
    "0 1 2\n",
    "0 1 2\n",
    "0 1 2\n",
    "\n",
    "2 1 3\n",
    "2 1 3\n",
    "2 1 3\n",
    "\n",
    "每一行和每一列的向量匹配\n",
    "\n",
    "\"\"\"\n",
    "\n",
    "print(X[row[:, np.newaxis], col])\n"
   ],
   "metadata": {
    "collapsed": false,
    "ExecuteTime": {
     "start_time": "2023-08-10T15:09:16.512743700Z"
    }
   },
   "id": "2396e9ed945a6c89"
  },
  {
   "cell_type": "markdown",
   "source": [
    "## 组合索引\n",
    "\n",
    "花哨的索引和简单的索引组合 `X[2, [2, 0, 1]]`\n",
    "\n",
    "也可以和切片组合使用 `X[1:, [2, 0, 1]]`\n",
    "\n",
    "也可以和掩码组合使用 `X[row[:, np.newaxis], mask]`\n"
   ],
   "metadata": {
    "collapsed": false
   },
   "id": "c005c8265609b5eb"
  },
  {
   "cell_type": "code",
   "execution_count": 7,
   "outputs": [
    {
     "name": "stdout",
     "output_type": "stream",
     "text": [
      "[[ 0  1  2  3]\n",
      " [ 4  5  6  7]\n",
      " [ 8  9 10 11]]\n"
     ]
    }
   ],
   "source": [
    "print(X)"
   ],
   "metadata": {
    "collapsed": false,
    "ExecuteTime": {
     "start_time": "2023-08-10T15:09:16.512743700Z"
    }
   },
   "id": "284c2a57aa867bb3"
  },
  {
   "cell_type": "code",
   "execution_count": 8,
   "outputs": [
    {
     "data": {
      "text/plain": "array([10,  8,  9])"
     },
     "execution_count": 8,
     "metadata": {},
     "output_type": "execute_result"
    }
   ],
   "source": [
    "X[2, [2, 0, 1]]"
   ],
   "metadata": {
    "collapsed": false,
    "ExecuteTime": {
     "start_time": "2023-08-10T15:09:16.512743700Z"
    }
   },
   "id": "4301b30440ea44e8"
  },
  {
   "cell_type": "code",
   "execution_count": 9,
   "outputs": [
    {
     "data": {
      "text/plain": "array([[ 6,  4,  5],\n       [10,  8,  9]])"
     },
     "execution_count": 9,
     "metadata": {},
     "output_type": "execute_result"
    }
   ],
   "source": [
    "X[1:, [2, 0, 1]]"
   ],
   "metadata": {
    "collapsed": false,
    "ExecuteTime": {
     "start_time": "2023-08-10T15:09:16.522818500Z"
    }
   },
   "id": "1e3f9fe474cea7d4"
  },
  {
   "cell_type": "code",
   "execution_count": 10,
   "outputs": [
    {
     "data": {
      "text/plain": "array([[ 0,  2],\n       [ 4,  6],\n       [ 8, 10]])"
     },
     "execution_count": 10,
     "metadata": {},
     "output_type": "execute_result"
    }
   ],
   "source": [
    "mask = np.array([1, 0, 1, 0], dtype=bool)\n",
    "\n",
    "X[row[:, np.newaxis], mask]"
   ],
   "metadata": {
    "collapsed": false,
    "ExecuteTime": {
     "start_time": "2023-08-10T15:09:16.522818500Z"
    }
   },
   "id": "6f97cc89fca98d9c"
  },
  {
   "cell_type": "markdown",
   "source": [
    "## 选择随机点\n",
    "\n",
    "通常用于快速分割数据，分割训练、测试数据集以验证统计模型。\n"
   ],
   "metadata": {
    "collapsed": false
   },
   "id": "ea388acdfdda638c"
  },
  {
   "cell_type": "code",
   "execution_count": 11,
   "outputs": [
    {
     "name": "stdout",
     "output_type": "stream",
     "text": [
      "(100, 2)\n"
     ]
    },
    {
     "data": {
      "text/plain": "array([[-0.644508  , -0.46220608],\n       [ 0.7376352 ,  1.21236921],\n       [ 0.88151763,  1.12795177],\n       [ 2.04998983,  5.97778598],\n       [-0.1711348 , -2.06258746],\n       [ 0.67956979,  0.83705124],\n       [ 1.46860232,  1.22961093],\n       [ 0.35282131,  1.49875397],\n       [-2.51552505, -5.64629995],\n       [ 0.0843329 , -0.3543059 ],\n       [ 0.19199272,  1.48901291],\n       [-0.02566217, -0.74987887],\n       [ 1.00569227,  2.25287315],\n       [ 0.49514263,  1.18939673],\n       [ 0.0629872 ,  0.57349278],\n       [ 0.75093031,  2.99487004],\n       [-3.0236127 , -6.00766046],\n       [-0.53943081, -0.3478899 ],\n       [ 1.53817376,  1.99973464],\n       [-0.50886808, -1.81099656],\n       [ 1.58115602,  2.86410319],\n       [ 0.99305043,  2.54294059],\n       [-0.87753796, -1.15767204],\n       [-1.11518048, -1.87508012],\n       [ 0.4299908 ,  0.36324254],\n       [ 0.97253528,  3.53815717],\n       [ 0.32124996,  0.33137032],\n       [-0.74618649, -2.77366681],\n       [-0.88473953, -1.81495444],\n       [ 0.98783862,  2.30280401],\n       [-1.2033623 , -2.04402725],\n       [-1.51101746, -3.2818741 ],\n       [-2.76337717, -7.66760648],\n       [ 0.39158553,  0.87949228],\n       [ 0.91181024,  3.32968944],\n       [-0.84202629, -2.01226547],\n       [ 1.06586877,  0.95500019],\n       [ 0.44457363,  1.87828298],\n       [ 0.35936721,  0.40554974],\n       [-0.90649669, -0.93486441],\n       [-0.35790389, -0.52363012],\n       [-1.33461668, -3.03203218],\n       [ 0.02815138,  0.79654924],\n       [ 0.37785618,  0.51409383],\n       [-1.06505097, -2.88726779],\n       [ 2.32083881,  5.97698647],\n       [ 0.47605744,  0.83634485],\n       [-0.35490984, -1.03657119],\n       [ 0.57532883, -0.79997124],\n       [ 0.33399913,  2.32597923],\n       [ 0.6575612 , -0.22389518],\n       [ 1.3707365 ,  2.2348831 ],\n       [ 0.07099548, -0.29685467],\n       [ 0.6074983 ,  1.47089233],\n       [-0.34226126, -1.10666237],\n       [ 0.69226246,  1.21504303],\n       [-0.31112937, -0.75912097],\n       [-0.26888327, -1.89366817],\n       [ 0.42044896,  1.85189522],\n       [ 0.21115245,  2.00781492],\n       [-1.83106042, -2.91352836],\n       [ 0.7841796 ,  1.97640753],\n       [ 0.10259314,  1.24690575],\n       [-1.91100558, -3.66800923],\n       [ 0.13143756, -0.07833855],\n       [-0.1317045 , -1.64159158],\n       [-0.14547282, -1.34125678],\n       [-0.51172373, -1.40960773],\n       [ 0.69758045,  0.72563649],\n       [ 0.11677083,  0.88385162],\n       [-1.16586444, -2.24482237],\n       [-2.23176235, -2.63958101],\n       [ 0.37857234,  0.69112594],\n       [ 0.87475323,  3.400675  ],\n       [-0.86864365, -3.03568353],\n       [-1.03637857, -1.18469125],\n       [-0.53334959, -0.37039911],\n       [ 0.30414557, -0.5828419 ],\n       [-1.47656656, -2.13046298],\n       [-0.31332021, -1.7895623 ],\n       [ 1.12659538,  1.49627535],\n       [-1.19675798, -1.51633442],\n       [-0.75210154, -0.79770535],\n       [ 0.74577693,  1.95834451],\n       [ 1.56094354,  2.9330816 ],\n       [-0.72009966, -1.99780959],\n       [-1.32319163, -2.61218347],\n       [-2.56215914, -6.08410838],\n       [ 1.31256297,  3.13143269],\n       [ 0.51575983,  2.30284639],\n       [ 0.01374713, -0.11539344],\n       [-0.16863279,  0.39422355],\n       [ 0.12065651,  1.13236323],\n       [-0.83504984, -2.38632016],\n       [ 1.05185885,  1.98418223],\n       [-0.69144553, -1.56919875],\n       [-1.2567603 , -1.125898  ],\n       [ 0.09619333, -0.64335574],\n       [-0.99658689, -2.35038099],\n       [-1.21405259, -1.77693724]])"
     },
     "execution_count": 11,
     "metadata": {},
     "output_type": "execute_result"
    }
   ],
   "source": [
    "mean = [0, 0]\n",
    "\n",
    "cov = [[1, 2], [2, 5]]\n",
    "\n",
    "Y = rand.multivariate_normal(mean, cov, 100)\n",
    "print(Y.shape)\n",
    "\n",
    "Y"
   ],
   "metadata": {
    "collapsed": false,
    "ExecuteTime": {
     "start_time": "2023-08-10T15:09:16.522818500Z"
    }
   },
   "id": "b31578ab7f755136"
  },
  {
   "cell_type": "code",
   "execution_count": 12,
   "outputs": [
    {
     "data": {
      "text/plain": "<Figure size 640x480 with 1 Axes>",
      "image/png": "[encoded data removed]"
     },
     "metadata": {},
     "output_type": "display_data"
    }
   ],
   "source": [
    "%matplotlib inline\n",
    "import matplotlib.pyplot as plt\n",
    "import seaborn\n",
    "\n",
    "seaborn.set()  # for plot styling\n",
    "\n",
    "plt.scatter(Y[:, 0], Y[:, 1]);"
   ],
   "metadata": {
    "collapsed": false,
    "ExecuteTime": {
     "start_time": "2023-08-10T15:09:16.522818500Z"
    }
   },
   "id": "c5382fb93e15a64"
  },
  {
   "cell_type": "code",
   "execution_count": 13,
   "outputs": [
    {
     "name": "stdout",
     "output_type": "stream",
     "text": [
      "[77 18 64 19 90 24 69 11 79 51 37 74 57  5 55 35 48 66 31 41]\n"
     ]
    }
   ],
   "source": [
    "indices = np.random.choice(Y.shape[0], 20, replace=False)\n",
    "\n",
    "print(indices)"
   ],
   "metadata": {
    "collapsed": false,
    "ExecuteTime": {
     "start_time": "2023-08-10T15:09:16.522818500Z"
    }
   },
   "id": "c97d5d3403c0658b"
  },
  {
   "cell_type": "code",
   "execution_count": 14,
   "outputs": [
    {
     "name": "stdout",
     "output_type": "stream",
     "text": [
      "(20, 2)\n"
     ]
    }
   ],
   "source": [
    "selection = Y[indices]\n",
    "print(selection.shape)"
   ],
   "metadata": {
    "collapsed": false,
    "ExecuteTime": {
     "start_time": "2023-08-10T15:09:16.532926300Z"
    }
   },
   "id": "9a78f55c11c5b611"
  },
  {
   "cell_type": "code",
   "execution_count": 15,
   "outputs": [
    {
     "data": {
      "text/plain": "<Figure size 640x480 with 1 Axes>",
      "image/png": "[encoded data removed]"
     },
     "metadata": {},
     "output_type": "display_data"
    }
   ],
   "source": [
    "plt.scatter(Y[:, 0], Y[:, 1], alpha=0.8)\n",
    "plt.scatter(selection[:, 0], selection[:, 1], facecolor='none', s=200, edgecolors='b');"
   ],
   "metadata": {
    "collapsed": false,
    "ExecuteTime": {
     "start_time": "2023-08-10T15:09:16.532926300Z"
    }
   },
   "id": "ac0cf7c6d93d279c"
  },
  {
   "cell_type": "markdown",
   "source": [
    "## 2.7.4 用花哨的索引修改值\n",
    "\n"
   ],
   "metadata": {
    "collapsed": false
   },
   "id": "109d4ab0b655f6f9"
  },
  {
   "cell_type": "code",
   "execution_count": 16,
   "outputs": [
    {
     "name": "stdout",
     "output_type": "stream",
     "text": [
      "[ 0 99 99  3 99  5  6  7 99  9]\n"
     ]
    }
   ],
   "source": [
    "x = np.arange(10)\n",
    "\n",
    "i = np.array([2, 1, 8, 4])\n",
    "x[i] = 99\n",
    "print(x)"
   ],
   "metadata": {
    "collapsed": false,
    "ExecuteTime": {
     "start_time": "2023-08-10T15:09:16.532926300Z"
    }
   },
   "id": "8e7ae75f6c0a601a"
  },
  {
   "cell_type": "code",
   "execution_count": 17,
   "outputs": [
    {
     "name": "stdout",
     "output_type": "stream",
     "text": [
      "[[ 0  1]\n",
      " [ 2  3]\n",
      " [ 4  5]\n",
      " [ 6  7]\n",
      " [ 8  9]\n",
      " [10 11]\n",
      " [12 13]\n",
      " [14 15]\n",
      " [16 17]\n",
      " [18 19]]\n",
      "[[ 4  5]\n",
      " [ 2  3]\n",
      " [16 17]\n",
      " [ 8  9]]\n",
      "[[ 0  1]\n",
      " [88 88]\n",
      " [88 88]\n",
      " [ 6  7]\n",
      " [88 88]\n",
      " [10 11]\n",
      " [12 13]\n",
      " [14 15]\n",
      " [88 88]\n",
      " [18 19]]\n"
     ]
    }
   ],
   "source": [
    "x = np.arange(20).reshape((10, 2))\n",
    "print(x)\n",
    "print(x[i])\n",
    "x[i] = [88, ]\n",
    "\n",
    "print(x)"
   ],
   "metadata": {
    "collapsed": false,
    "ExecuteTime": {
     "start_time": "2023-08-10T15:09:16.538627600Z"
    }
   },
   "id": "836d9520aa9122ea"
  },
  {
   "cell_type": "code",
   "execution_count": 18,
   "outputs": [
    {
     "name": "stdout",
     "output_type": "stream",
     "text": [
      "[6. 0. 0. 0. 0. 0. 0. 0. 0. 0.]\n"
     ]
    }
   ],
   "source": [
    "x = np.zeros(10)\n",
    "\n",
    "x[[0, 0]] = [4, 6]\n",
    "print(x)"
   ],
   "metadata": {
    "collapsed": false,
    "ExecuteTime": {
     "start_time": "2023-08-10T15:09:16.538627600Z"
    }
   },
   "id": "3aefb92ad23feffc"
  },
  {
   "cell_type": "code",
   "execution_count": 19,
   "outputs": [
    {
     "name": "stdout",
     "output_type": "stream",
     "text": [
      "[6. 0. 1. 1. 1. 0. 0. 0. 0. 0.]\n"
     ]
    }
   ],
   "source": [
    "\"\"\"\n",
    "x[i] = x[i] + 1\n",
    "数组并没有发生多次累加，而是发生了赋值。\n",
    "\n",
    "\"\"\"\n",
    "\n",
    "i = [2, 3, 3, 4, 4, 4]\n",
    "x[i] += 1\n",
    "print(x)"
   ],
   "metadata": {
    "collapsed": false,
    "ExecuteTime": {
     "start_time": "2023-08-10T15:09:16.542639300Z"
    }
   },
   "id": "401338810a2690fb"
  },
  {
   "cell_type": "code",
   "execution_count": 20,
   "outputs": [
    {
     "name": "stdout",
     "output_type": "stream",
     "text": [
      "[0. 0. 1. 2. 3. 0. 0. 0. 0. 0.]\n"
     ]
    }
   ],
   "source": [
    "\"\"\"\n",
    "累加，使用at来实现\n",
    "\n",
    "\"\"\"\n",
    "x = np.zeros(10)\n",
    "\n",
    "np.add.at(x, i, 1)\n",
    "print(x)"
   ],
   "metadata": {
    "collapsed": false,
    "ExecuteTime": {
     "start_time": "2023-08-10T15:09:16.543513400Z"
    }
   },
   "id": "37d68c6713a2259b"
  },
  {
   "cell_type": "markdown",
   "source": [
    "## 2.7.5 数据区间划分\n"
   ],
   "metadata": {
    "collapsed": false
   },
   "id": "fc63eaf549e9f02"
  }
 ],
 "metadata": {
  "kernelspec": {
   "display_name": "Python 3",
   "language": "python",
   "name": "python3"
  },
  "language_info": {
   "codemirror_mode": {
    "name": "ipython",
    "version": 2
   },
   "file_extension": ".py",
   "mimetype": "text/x-python",
   "name": "python",
   "nbconvert_exporter": "python",
   "pygments_lexer": "ipython2",
   "version": "2.7.6"
  }
 },
 "nbformat": 4,
 "nbformat_minor": 5
}
