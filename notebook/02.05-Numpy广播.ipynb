{
 "cells": [
  {
   "cell_type": "markdown",
   "source": [
    "# 数组的计算: 广播\n",
    "\n",
    "如何通过通用函数的向量化操作来减少缓慢的Python循环\n",
    "\n",
    "另外一种向量化操作的方法是利用numpy的广播功能。\n",
    "\n",
    "广播可以简单理解为用于不同大小数组的二元通用函数的一组规则。\n",
    "\n",
    "## 介绍\n",
    "\n",
    "对于同样大小的数组，二元运算符是对相应元素逐个计算。\n",
    "\n",
    "![Broadcasting Visual](figures/02.05-broadcasting.png)"
   ],
   "metadata": {
    "collapsed": false
   }
  },
  {
   "cell_type": "code",
   "execution_count": 1,
   "outputs": [
    {
     "name": "stdout",
     "output_type": "stream",
     "text": [
      "[6 7 8]\n"
     ]
    }
   ],
   "source": [
    "import numpy as np\n",
    "\n",
    "a = np.array([1, 2, 3])\n",
    "b = np.array([5, 5, 5])\n",
    "\n",
    "print(a + b)"
   ],
   "metadata": {
    "collapsed": false,
    "ExecuteTime": {
     "end_time": "2023-07-25T14:52:30.793863300Z",
     "start_time": "2023-07-25T14:52:30.663848100Z"
    }
   }
  },
  {
   "cell_type": "code",
   "execution_count": 2,
   "outputs": [
    {
     "name": "stdout",
     "output_type": "stream",
     "text": [
      "[6 7 8]\n"
     ]
    }
   ],
   "source": [
    "\"\"\"\n",
    "一个标量(可以认为是零维数组)和一个数组相加: a + 5 \n",
    "\n",
    "将数值5扩展至 [5,5,5] 然后执行加法\n",
    "\"\"\"\n",
    "\n",
    "print(a + 5)"
   ],
   "metadata": {
    "collapsed": false,
    "ExecuteTime": {
     "end_time": "2023-07-25T14:52:30.840055600Z",
     "start_time": "2023-07-25T14:52:30.793863300Z"
    }
   }
  },
  {
   "cell_type": "code",
   "execution_count": 3,
   "outputs": [
    {
     "name": "stdout",
     "output_type": "stream",
     "text": [
      "[[1. 1. 1.]\n",
      " [1. 1. 1.]]\n",
      "[1 2 3]\n",
      "M shape: (2, 3)\n",
      "a shape: (3,)\n",
      "[[2. 3. 4.]\n",
      " [2. 3. 4.]]\n"
     ]
    }
   ],
   "source": [
    "\"\"\"\n",
    "这里这个一维数组就被扩展了，它沿着第二个维度扩展，扩展到匹配M数组的形状\n",
    "\n",
    "\n",
    "\"\"\"\n",
    "\n",
    "M = np.ones((2, 3))\n",
    "\n",
    "print(M)\n",
    "print(a)\n",
    "\n",
    "print(f'M shape: {M.shape}')\n",
    "print(f'a shape: {a.shape}')\n",
    "\n",
    "print(M + a)"
   ],
   "metadata": {
    "collapsed": false,
    "ExecuteTime": {
     "end_time": "2023-07-25T14:52:30.844205200Z",
     "start_time": "2023-07-25T14:52:30.813830200Z"
    }
   }
  },
  {
   "cell_type": "code",
   "execution_count": 4,
   "outputs": [
    {
     "name": "stdout",
     "output_type": "stream",
     "text": [
      "[0 1 2]\n",
      "[[0]\n",
      " [1]\n",
      " [2]]\n",
      "a shape: (3,)\n",
      "b shape: (3, 1)\n",
      "[[0 1 2]\n",
      " [1 2 3]\n",
      " [2 3 4]]\n"
     ]
    }
   ],
   "source": [
    "\"\"\"\n",
    "这里a和b都会进行扩展。\n",
    "\n",
    "a -> (x, 3) -> (3, 3)\n",
    "b -> (3, 1) -> (3, 3)\n",
    "\n",
    "\"\"\"\n",
    "\n",
    "a = np.arange(3)\n",
    "\n",
    "b = np.arange(3)[:, np.newaxis]\n",
    "\n",
    "print(a)\n",
    "print(b)\n",
    "\n",
    "print(f'a shape: {a.shape}')\n",
    "print(f'b shape: {b.shape}')\n",
    "\n",
    "print(a + b)"
   ],
   "metadata": {
    "collapsed": false,
    "ExecuteTime": {
     "end_time": "2023-07-25T14:52:30.844205200Z",
     "start_time": "2023-07-25T14:52:30.824092400Z"
    }
   }
  }
 ],
 "metadata": {
  "kernelspec": {
   "display_name": "Python 3",
   "language": "python",
   "name": "python3"
  },
  "language_info": {
   "codemirror_mode": {
    "name": "ipython",
    "version": 2
   },
   "file_extension": ".py",
   "mimetype": "text/x-python",
   "name": "python",
   "nbconvert_exporter": "python",
   "pygments_lexer": "ipython2",
   "version": "2.7.6"
  }
 },
 "nbformat": 4,
 "nbformat_minor": 0
}
