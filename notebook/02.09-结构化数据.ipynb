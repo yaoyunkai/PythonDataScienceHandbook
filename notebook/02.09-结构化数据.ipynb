{
 "cells": [
  {
   "cell_type": "markdown",
   "source": [
    "# 2.9 结构化数据: Numpy的结构化数据\n",
    "\n"
   ],
   "metadata": {
    "collapsed": false
   },
   "id": "2158e9203892eafa"
  },
  {
   "cell_type": "code",
   "execution_count": 1,
   "outputs": [],
   "source": [
    "import numpy as np\n",
    "\n",
    "name = ['Alice', 'Bob', 'Cathy', 'Doug']\n",
    "age = [25, 45, 37, 19]\n",
    "weight = [55.0, 85.5, 68.0, 61.5]"
   ],
   "metadata": {
    "collapsed": false,
    "ExecuteTime": {
     "end_time": "2023-08-10T14:02:46.660556100Z",
     "start_time": "2023-08-10T14:02:46.550105800Z"
    }
   },
   "id": "d4d302f8dc8a460c"
  },
  {
   "cell_type": "code",
   "execution_count": 2,
   "outputs": [
    {
     "name": "stdout",
     "output_type": "stream",
     "text": [
      "[('name', '<U10'), ('age', '<i4'), ('weight', '<f8')]\n"
     ]
    }
   ],
   "source": [
    "# x = np.zeros(4, dtype=int)\n",
    "\n",
    "data = np.zeros(4, dtype={'names':('name', 'age', 'weight'),\n",
    "                          'formats':('U10', 'i4', 'f8')})\n",
    "print(data.dtype)"
   ],
   "metadata": {
    "collapsed": false,
    "ExecuteTime": {
     "end_time": "2023-08-10T14:03:31.850266400Z",
     "start_time": "2023-08-10T14:03:31.840012200Z"
    }
   },
   "id": "5ee996398ea45636"
  },
  {
   "cell_type": "code",
   "execution_count": 3,
   "outputs": [
    {
     "name": "stdout",
     "output_type": "stream",
     "text": [
      "[('Alice', 25, 55. ) ('Bob', 45, 85.5) ('Cathy', 37, 68. )\n",
      " ('Doug', 19, 61.5)]\n"
     ]
    }
   ],
   "source": [
    "# 将数据放进数组中\n",
    "data['name'] = name\n",
    "data['age'] = age\n",
    "data['weight'] = weight\n",
    "print(data)"
   ],
   "metadata": {
    "collapsed": false,
    "ExecuteTime": {
     "end_time": "2023-08-10T14:04:14.221104900Z",
     "start_time": "2023-08-10T14:04:14.181369300Z"
    }
   },
   "id": "7d4dfb8eea85bb66"
  },
  {
   "cell_type": "code",
   "execution_count": 4,
   "outputs": [
    {
     "name": "stdout",
     "output_type": "stream",
     "text": [
      "['Alice' 'Bob' 'Cathy' 'Doug']\n",
      "('Alice', 25, 55.)\n",
      "Doug\n"
     ]
    }
   ],
   "source": [
    "print(data['name'])\n",
    "\n",
    "print(data[0])\n",
    "\n",
    "print(data[-1]['name'])"
   ],
   "metadata": {
    "collapsed": false,
    "ExecuteTime": {
     "end_time": "2023-08-10T14:05:04.721121300Z",
     "start_time": "2023-08-10T14:05:04.701003100Z"
    }
   },
   "id": "7a48aed3249d40f6"
  },
  {
   "cell_type": "code",
   "execution_count": 5,
   "outputs": [
    {
     "data": {
      "text/plain": "array(['Alice', 'Doug'], dtype='<U10')"
     },
     "execution_count": 5,
     "metadata": {},
     "output_type": "execute_result"
    }
   ],
   "source": [
    "data[data['age'] < 30]['name']"
   ],
   "metadata": {
    "collapsed": false,
    "ExecuteTime": {
     "end_time": "2023-08-10T14:05:28.650904300Z",
     "start_time": "2023-08-10T14:05:28.601078300Z"
    }
   },
   "id": "c18f196296d824e9"
  },
  {
   "cell_type": "markdown",
   "source": [
    "## 2.9.1 生成结构化数组\n",
    "\n"
   ],
   "metadata": {
    "collapsed": false
   },
   "id": "2da21108a70c8d15"
  },
  {
   "cell_type": "code",
   "execution_count": 6,
   "outputs": [
    {
     "data": {
      "text/plain": "dtype([('name', '<U10'), ('age', '<i4'), ('weight', '<f8')])"
     },
     "execution_count": 6,
     "metadata": {},
     "output_type": "execute_result"
    }
   ],
   "source": [
    "np.dtype({'names':('name', 'age', 'weight'),\n",
    "          'formats':('U10', 'i4', 'f8')})"
   ],
   "metadata": {
    "collapsed": false,
    "ExecuteTime": {
     "end_time": "2023-08-10T14:06:26.340615900Z",
     "start_time": "2023-08-10T14:06:26.320479800Z"
    }
   },
   "id": "186267266beaa7f0"
  },
  {
   "cell_type": "code",
   "execution_count": 7,
   "outputs": [
    {
     "data": {
      "text/plain": "dtype([('name', '<U10'), ('age', '<i4'), ('weight', '<f4')])"
     },
     "execution_count": 7,
     "metadata": {},
     "output_type": "execute_result"
    }
   ],
   "source": [
    "np.dtype({'names':('name', 'age', 'weight'),\n",
    "          'formats':((np.str_, 10), int, np.float32)})"
   ],
   "metadata": {
    "collapsed": false,
    "ExecuteTime": {
     "end_time": "2023-08-10T14:06:32.480239900Z",
     "start_time": "2023-08-10T14:06:32.457099400Z"
    }
   },
   "id": "f2509476dd14f92"
  },
  {
   "cell_type": "code",
   "execution_count": 8,
   "outputs": [
    {
     "data": {
      "text/plain": "dtype([('name', 'S10'), ('age', '<i4'), ('weight', '<f8')])"
     },
     "execution_count": 8,
     "metadata": {},
     "output_type": "execute_result"
    }
   ],
   "source": [
    "np.dtype([('name', 'S10'), ('age', 'i4'), ('weight', 'f8')])"
   ],
   "metadata": {
    "collapsed": false,
    "ExecuteTime": {
     "end_time": "2023-08-10T14:06:39.280528600Z",
     "start_time": "2023-08-10T14:06:39.270288500Z"
    }
   },
   "id": "93ce0059875277be"
  }
 ],
 "metadata": {
  "kernelspec": {
   "display_name": "Python 3",
   "language": "python",
   "name": "python3"
  },
  "language_info": {
   "codemirror_mode": {
    "name": "ipython",
    "version": 2
   },
   "file_extension": ".py",
   "mimetype": "text/x-python",
   "name": "python",
   "nbconvert_exporter": "python",
   "pygments_lexer": "ipython2",
   "version": "2.7.6"
  }
 },
 "nbformat": 4,
 "nbformat_minor": 5
}
