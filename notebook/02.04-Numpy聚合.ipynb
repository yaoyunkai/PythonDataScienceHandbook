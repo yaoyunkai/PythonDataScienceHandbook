{
 "cells": [
  {
   "cell_type": "markdown",
   "source": [
    "# 聚合\n",
    "\n",
    "当面对大量的数据时，第一个步骤通常时计算相关数据的概括统计值\n",
    "\n",
    "np.sum 可以感知数组的维度\n",
    "\n",
    "几种不同的使用方式：\n",
    "```python\n",
    "print(min(big_array))\n",
    "print(np.min(big_array))\n",
    "print(big_array.min())\n",
    "\n",
    "```\n",
    "\n"
   ],
   "metadata": {
    "collapsed": false
   }
  },
  {
   "cell_type": "code",
   "execution_count": 1,
   "outputs": [
    {
     "name": "stdout",
     "output_type": "stream",
     "text": [
      "54.31077792512541\n",
      "54.31077792512543\n"
     ]
    }
   ],
   "source": [
    "import numpy as np\n",
    "\n",
    "L = np.random.random(100)\n",
    "\n",
    "print(sum(L))\n",
    "\n",
    "print(np.sum(L))"
   ],
   "metadata": {
    "collapsed": false,
    "ExecuteTime": {
     "end_time": "2023-07-25T14:24:47.112199700Z",
     "start_time": "2023-07-25T14:24:47.092152600Z"
    }
   }
  },
  {
   "cell_type": "code",
   "execution_count": 2,
   "outputs": [
    {
     "name": "stdout",
     "output_type": "stream",
     "text": [
      "79.2 ms ± 2.11 ms per loop (mean ± std. dev. of 7 runs, 10 loops each)\n",
      "911 µs ± 40.8 µs per loop (mean ± std. dev. of 7 runs, 1,000 loops each)\n"
     ]
    }
   ],
   "source": [
    "big_array = np.random.rand(1000000)\n",
    "%timeit sum(big_array)\n",
    "%timeit np.sum(big_array)"
   ],
   "metadata": {
    "collapsed": false,
    "ExecuteTime": {
     "end_time": "2023-07-25T14:25:00.962336700Z",
     "start_time": "2023-07-25T14:24:47.104064100Z"
    }
   }
  },
  {
   "cell_type": "code",
   "execution_count": 3,
   "outputs": [
    {
     "name": "stdout",
     "output_type": "stream",
     "text": [
      "2.2265958266043384e-07\n",
      "2.2265958266043384e-07\n",
      "2.2265958266043384e-07\n"
     ]
    }
   ],
   "source": [
    "# 不同的使用形式\n",
    "\n",
    "print(min(big_array))\n",
    "print(np.min(big_array))\n",
    "print(big_array.min())\n"
   ],
   "metadata": {
    "collapsed": false,
    "ExecuteTime": {
     "end_time": "2023-07-25T14:25:01.025457800Z",
     "start_time": "2023-07-25T14:25:01.012424100Z"
    }
   }
  },
  {
   "cell_type": "markdown",
   "source": [
    "## 多维度集合\n",
    "\n",
    "np的聚合函数中，axis表示数组会被折叠的维度，而不是将要返回的维度。\n",
    "\n",
    "聚合函数有对NaN值的安全处理策略 (Nan-safe)\n",
    "\n",
    "下表列出了可用的聚合函数清单\n",
    "\n",
    "| Function Name   | NaN-safe Version   | Description                               |\n",
    "|-----------------|--------------------|-------------------------------------------|\n",
    "| `np.sum`        | `np.nansum`        | Compute sum of elements                   |\n",
    "| `np.prod`       | `np.nanprod`       | Compute product of elements               |\n",
    "| `np.mean`       | `np.nanmean`       | Compute mean of elements                  |\n",
    "| `np.std`        | `np.nanstd`        | Compute standard deviation                |\n",
    "| `np.var`        | `np.nanvar`        | Compute variance                          |\n",
    "| `np.min`        | `np.nanmin`        | Find minimum value                        |\n",
    "| `np.max`        | `np.nanmax`        | Find maximum value                        |\n",
    "| `np.argmin`     | `np.nanargmin`     | Find index of minimum value               |\n",
    "| `np.argmax`     | `np.nanargmax`     | Find index of maximum value               |\n",
    "| `np.median`     | `np.nanmedian`     | Compute median of elements                |\n",
    "| `np.percentile` | `np.nanpercentile` | Compute rank-based statistics of elements |\n",
    "| `np.any`        | N/A                | Evaluate whether any elements are true    |\n",
    "| `np.all`        | N/A                | Evaluate whether all elements are true    |\n",
    "\n"
   ],
   "metadata": {
    "collapsed": false
   }
  },
  {
   "cell_type": "code",
   "execution_count": 4,
   "outputs": [
    {
     "name": "stdout",
     "output_type": "stream",
     "text": [
      "[[0.61920807 0.42830882 0.48447614 0.01027353]\n",
      " [0.5102454  0.47993822 0.33547232 0.89492685]\n",
      " [0.7251633  0.49398223 0.66080304 0.87504485]]\n",
      "6.5178427678240904\n",
      "[1.85461677 1.40222927 1.4807515  1.78024523]\n",
      "[0.61920807 0.89492685 0.87504485]\n"
     ]
    }
   ],
   "source": [
    "M = np.random.random((3, 4))\n",
    "print(M)\n",
    "\n",
    "print(M.sum())\n",
    "print(M.sum(axis=0))\n",
    "print(M.max(axis=1))"
   ],
   "metadata": {
    "collapsed": false,
    "ExecuteTime": {
     "end_time": "2023-07-25T14:25:01.041989500Z",
     "start_time": "2023-07-25T14:25:01.025457800Z"
    }
   }
  },
  {
   "cell_type": "code",
   "execution_count": 5,
   "outputs": [
    {
     "name": "stderr",
     "output_type": "stream",
     "text": [
      "'head' 不是内部或外部命令，也不是可运行的程序\n",
      "或批处理文件。\n"
     ]
    }
   ],
   "source": [
    "!head -4 data/president_heights.csv"
   ],
   "metadata": {
    "collapsed": false,
    "ExecuteTime": {
     "end_time": "2023-07-25T14:25:01.112302400Z",
     "start_time": "2023-07-25T14:25:01.041989500Z"
    }
   }
  },
  {
   "cell_type": "code",
   "execution_count": 6,
   "outputs": [
    {
     "name": "stdout",
     "output_type": "stream",
     "text": [
      "[189 170 189 163 183 171 185 168 173 183 173 173 175 178 183 193 178 173\n",
      " 174 183 183 168 170 178 182 180 183 178 182 188 175 179 183 193 182 183\n",
      " 177 185 188 188 182 185]\n"
     ]
    }
   ],
   "source": [
    "import pandas as pd\n",
    "\n",
    "data = pd.read_csv('data/president_heights.csv')\n",
    "heights = np.array(data['height(cm)'])\n",
    "print(heights)"
   ],
   "metadata": {
    "collapsed": false,
    "ExecuteTime": {
     "end_time": "2023-07-25T14:25:01.122187100Z",
     "start_time": "2023-07-25T14:25:01.106287800Z"
    }
   }
  },
  {
   "cell_type": "code",
   "execution_count": 7,
   "outputs": [
    {
     "name": "stdout",
     "output_type": "stream",
     "text": [
      "Mean height:        179.73809523809524\n",
      "Standard deviation: 6.931843442745892\n",
      "Minimum height:     163\n",
      "Maximum height:     193\n"
     ]
    }
   ],
   "source": [
    "print(\"Mean height:       \", heights.mean())\n",
    "print(\"Standard deviation:\", heights.std())\n",
    "print(\"Minimum height:    \", heights.min())\n",
    "print(\"Maximum height:    \", heights.max())"
   ],
   "metadata": {
    "collapsed": false,
    "ExecuteTime": {
     "end_time": "2023-07-25T14:25:01.132012Z",
     "start_time": "2023-07-25T14:25:01.106287800Z"
    }
   }
  },
  {
   "cell_type": "code",
   "execution_count": 8,
   "outputs": [
    {
     "name": "stdout",
     "output_type": "stream",
     "text": [
      "25th percentile:    174.25\n",
      "Median:             182.0\n",
      "75th percentile:    183.0\n"
     ]
    }
   ],
   "source": [
    "print(\"25th percentile:   \", np.percentile(heights, 25))\n",
    "print(\"Median:            \", np.median(heights))\n",
    "print(\"75th percentile:   \", np.percentile(heights, 75))"
   ],
   "metadata": {
    "collapsed": false,
    "ExecuteTime": {
     "end_time": "2023-07-25T14:25:01.201818900Z",
     "start_time": "2023-07-25T14:25:01.122251600Z"
    }
   }
  },
  {
   "cell_type": "code",
   "execution_count": 9,
   "outputs": [
    {
     "data": {
      "text/plain": "<Figure size 640x480 with 1 Axes>",
      "image/png": "[encoded data removed]"
     },
     "metadata": {},
     "output_type": "display_data"
    }
   ],
   "source": [
    "%matplotlib inline\n",
    "import matplotlib.pyplot as plt\n",
    "import seaborn\n",
    "\n",
    "seaborn.set()  # set plot style\n",
    "\n",
    "plt.hist(heights)\n",
    "plt.title('Height Distribution of US Presidents')\n",
    "plt.xlabel('height (cm)')\n",
    "plt.ylabel('number');"
   ],
   "metadata": {
    "collapsed": false,
    "ExecuteTime": {
     "end_time": "2023-07-25T14:25:01.473509400Z",
     "start_time": "2023-07-25T14:25:01.142331500Z"
    }
   }
  }
 ],
 "metadata": {
  "kernelspec": {
   "display_name": "Python 3",
   "language": "python",
   "name": "python3"
  },
  "language_info": {
   "codemirror_mode": {
    "name": "ipython",
    "version": 2
   },
   "file_extension": ".py",
   "mimetype": "text/x-python",
   "name": "python",
   "nbconvert_exporter": "python",
   "pygments_lexer": "ipython2",
   "version": "2.7.6"
  }
 },
 "nbformat": 4,
 "nbformat_minor": 0
}
